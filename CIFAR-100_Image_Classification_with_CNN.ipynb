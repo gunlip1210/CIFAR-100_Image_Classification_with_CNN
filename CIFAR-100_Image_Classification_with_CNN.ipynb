{
 "cells": [
  {
   "cell_type": "markdown",
   "metadata": {
    "id": "Mq3nlbXA-Mjz"
   },
   "source": [
    "CIFAR-100은 32x32픽셀의 컬러이미지(RGB) 60000개로 이루어져 있으며\n",
    "\n",
    "( training set - 50000, test set - 10000 )\n",
    "\n",
    "각 이미지는 100개의 클래스로 구분되어있다."
   ]
  },
  {
   "cell_type": "markdown",
   "metadata": {
    "id": "_L80Wp4C_Omg"
   },
   "source": [
    "### Import packages\n",
    "---"
   ]
  },
  {
   "cell_type": "code",
   "execution_count": 1,
   "metadata": {
    "id": "JZxvpsbK_KPA"
   },
   "outputs": [
    {
     "name": "stderr",
     "output_type": "stream",
     "text": [
      "/usr/local/lib/python3.8/dist-packages/tqdm/auto.py:22: TqdmWarning: IProgress not found. Please update jupyter and ipywidgets. See https://ipywidgets.readthedocs.io/en/stable/user_install.html\n",
      "  from .autonotebook import tqdm as notebook_tqdm\n"
     ]
    }
   ],
   "source": [
    "import numpy as np\n",
    "import matplotlib.pyplot as plt\n",
    "\n",
    "import torch\n",
    "import torch.nn as nn\n",
    "import torchvision\n",
    "import torchvision.transforms as T\n",
    "\n",
    "import pickle\n"
   ]
  },
  {
   "cell_type": "markdown",
   "metadata": {
    "id": "xsT5BKapQ82k"
   },
   "source": [
    "### Setup a device"
   ]
  },
  {
   "cell_type": "code",
   "execution_count": 2,
   "metadata": {
    "colab": {
     "base_uri": "https://localhost:8080/"
    },
    "id": "yFAX7zz4Q7TW",
    "outputId": "e3a82c2f-416e-4694-b324-5c8824e752a2"
   },
   "outputs": [
    {
     "name": "stdout",
     "output_type": "stream",
     "text": [
      "device: cuda\n"
     ]
    }
   ],
   "source": [
    "# Device configuration\n",
    "\n",
    "if torch.cuda.is_available():\n",
    "    device = torch.device('cuda')\n",
    "else:\n",
    "    device = torch.device('cpu')\n",
    "\n",
    "print('device:', device)"
   ]
  },
  {
   "cell_type": "markdown",
   "metadata": {
    "id": "xig9mBcUQec8"
   },
   "source": [
    "### Progress monitor\n",
    "---"
   ]
  },
  {
   "cell_type": "code",
   "execution_count": 3,
   "metadata": {
    "id": "IMrkSUyKQuaC"
   },
   "outputs": [],
   "source": [
    "from IPython.display import HTML, display\n",
    "\n",
    "\n",
    "# Custom IPython progress bar for training\n",
    "class ProgressMonitor(object):\n",
    "\n",
    "    tmpl = \"\"\"\n",
    "        <table style=\"width: 100%;\">\n",
    "            <tbody>\n",
    "                <tr>\n",
    "                    <td style=\"width: 30%;\">\n",
    "                     <b>Loss: {loss:0.4f}</b> &nbsp&nbsp&nbsp {value} / {length}\n",
    "                    </td>\n",
    "                    <td style=\"width: 70%;\">\n",
    "                        <progress value='{value}' max='{length}', style='width: 100%'>{value}</progress>\n",
    "                    </td>\n",
    "                </tr>\n",
    "            </tbody>\n",
    "        </table>\n",
    "        \"\"\"\n",
    "\n",
    "    def __init__(self, length):\n",
    "        self.length = length\n",
    "        self.count = 0\n",
    "        self.display = display(self.html(0, 0), display_id=True)\n",
    "\n",
    "    def html(self, count, loss):\n",
    "        return HTML(self.tmpl.format(length=self.length, value=count, loss=loss))\n",
    "\n",
    "    def update(self, count, loss):\n",
    "        self.count += count\n",
    "        self.display.update(self.html(self.count, loss))"
   ]
  },
  {
   "cell_type": "markdown",
   "metadata": {
    "id": "1sHv9t9eBxdo"
   },
   "source": [
    "### Load the datasets\n",
    "---"
   ]
  },
  {
   "cell_type": "code",
   "execution_count": 4,
   "metadata": {
    "colab": {
     "base_uri": "https://localhost:8080/"
    },
    "id": "vZgdPtMKB2kP",
    "outputId": "f39ed041-5a18-4a35-bee7-3bf6bdce9778"
   },
   "outputs": [
    {
     "name": "stdout",
     "output_type": "stream",
     "text": [
      "Files already downloaded and verified\n",
      "Files already downloaded and verified\n"
     ]
    }
   ],
   "source": [
    "\n",
    "# transform_train = T.Compose( [T.ToTensor(), T.Normalize( (0.5, 0.5, 0.5), (0.5, 0.5, 0.5) )] )\n",
    "# transform_train = T.Compose( [T.RandomCrop(32, padding=4), T.ColorJitter(), T.RandomPerspective(), T.RandomHorizontalFlip(), T.ToTensor(), T.Normalize( (0.5, 0.5, 0.5), (0.5, 0.5, 0.5) )] )\n",
    "# transform_train = T.Compose( [T.RandomCrop(32, padding=4, padding_mode='reflect'), T.RandomHorizontalFlip(), T.ToTensor(), T.Normalize( (0.5, 0.5, 0.5), (0.5, 0.5, 0.5) )] )\n",
    "# transform_train = T.Compose( [T.RandomCrop(32, padding=4, padding_mode='reflect'), T.RandomHorizontalFlip(), T.RandomVerticalFlip(), T.RandomPerspective(distortion_scale=0.2, p=0.3), T.ToTensor(), T.Normalize( (0.5, 0.5, 0.5), (0.5, 0.5, 0.5) )] )\n",
    "transform_train = T.Compose( [T.RandomCrop(32, padding=4, padding_mode='reflect'), T.ColorJitter(), T.RandomHorizontalFlip(), T.RandomPerspective(distortion_scale=0.4, p=0.9), T.ToTensor(), T.Normalize( (0.5, 0.5, 0.5), (0.5, 0.5, 0.5) )] )\n",
    "transform_test = T.Compose( [T.ToTensor(), T.Normalize( (0.5, 0.5, 0.5), (0.5, 0.5, 0.5) )] )\n",
    "\n",
    "# pytorch augmentation 이용 -> transform_train만 수정 가능, transform_test 수정 불가.\n",
    "\n",
    "train_set = torchvision.datasets.CIFAR100('./data', train=True, download=True, transform=transform_train )\n",
    "test_set = torchvision.datasets.CIFAR100('./data', train=False, download=True, transform=transform_test )\n",
    "\n",
    "classes = train_set.classes\n"
   ]
  },
  {
   "cell_type": "code",
   "execution_count": 5,
   "metadata": {
    "colab": {
     "base_uri": "https://localhost:8080/"
    },
    "id": "7YmtRUX2Chc-",
    "outputId": "73d9206b-c69d-4992-cbef-8604eaef4b02"
   },
   "outputs": [
    {
     "name": "stdout",
     "output_type": "stream",
     "text": [
      "(50000, 32, 32, 3)\n",
      "(10000, 32, 32, 3)\n"
     ]
    }
   ],
   "source": [
    "print(train_set.data.shape)\n",
    "print(test_set.data.shape)"
   ]
  },
  {
   "cell_type": "markdown",
   "metadata": {
    "id": "kCfqFuEOsk_C"
   },
   "source": [
    "### Preview the data\n",
    "---"
   ]
  },
  {
   "cell_type": "code",
   "execution_count": 6,
   "metadata": {
    "colab": {
     "base_uri": "https://localhost:8080/",
     "height": 192
    },
    "id": "zGc-5cV9s0V0",
    "outputId": "fc3ef259-b3a0-4f9e-90aa-e05fe08a6c2c"
   },
   "outputs": [
    {
     "data": {
      "image/png": "[encoded data removed]",
      "text/plain": [
       "<Figure size 1200x250 with 6 Axes>"
      ]
     },
     "metadata": {},
     "output_type": "display_data"
    }
   ],
   "source": [
    "import matplotlib.pyplot as plt\n",
    "import numpy as np\n",
    "\n",
    "def convert_to_imshow_format(image):\n",
    "    # first convert back to [0,1] range from [-1,1] range\n",
    "    image = image / 2 + 0.5\n",
    "    image = image.numpy()\n",
    "    # convert from CHW to HWC\n",
    "    # from 3x32x32 to 32x32x3\n",
    "    return image.transpose(1,2,0)\n",
    "\n",
    "temp_loader = torch.utils.data.DataLoader(train_set, batch_size=30, shuffle=True)\n",
    "\n",
    "dataiter = iter(temp_loader)\n",
    "images, labels = next( dataiter )\n",
    "\n",
    "images = images[:6]\n",
    "labels = labels[:6]\n",
    "\n",
    "fig, axes = plt.subplots(1, len(images), figsize=(12,2.5))\n",
    "for idx, image in enumerate(images):\n",
    "    axes[idx].imshow(convert_to_imshow_format(image))\n",
    "    axes[idx].set_title(classes[labels[idx]])\n",
    "    axes[idx].set_xticks([])\n",
    "    axes[idx].set_yticks([])"
   ]
  },
  {
   "cell_type": "markdown",
   "metadata": {
    "id": "OvolK6DdAOTJ"
   },
   "source": [
    "### Specify a model architecture\n",
    "---\n"
   ]
  },
  {
   "cell_type": "code",
   "execution_count": 8,
   "metadata": {
    "colab": {
     "base_uri": "https://localhost:8080/",
     "height": 127
    },
    "id": "0LjBgQWTAQBi",
    "outputId": "a567eadc-1263-4f4a-9c7e-4b010448a219"
   },
   "outputs": [
    {
     "data": {
      "text/plain": [
       "'\\n    def __init__(self):\\n        super().__init__()\\n\\n        self.conv_layers = nn.Sequential(\\n\\n            ######## 수정 가능\\n\\n            # Conv2d()에서 kernel_size=3, padding=1을 사용하면 이미지 크기가 유지됩니다.\\n\\n            #### 입력 이미지 크기 32x32\\n\\n            # 채널 3 -> 32\\n            nn.Conv2d( in_channels=3, out_channels=32, kernel_size=3, padding=1 ),\\n            nn.BatchNorm2d(32),\\n            nn.ReLU(),\\n\\n            nn.Conv2d( in_channels=32, out_channels=32, kernel_size=3, padding=1 ),\\n            nn.BatchNorm2d(32),\\n            nn.ReLU(),\\n\\n            #### 이미지 크기 절반으로 -> 16x16\\n            nn.MaxPool2d(2),\\n\\n            # 채널 32 -> 64\\n            nn.Conv2d( in_channels=32, out_channels=64, kernel_size=3, padding=1 ),\\n            nn.BatchNorm2d(64),\\n            nn.ReLU(),\\n\\n            # 채널 64 -> 64\\n            nn.Conv2d( in_channels=64, out_channels=64, kernel_size=3, padding=1 ),\\n            nn.BatchNorm2d(64),\\n            nn.ReLU(),\\n\\n            # 채널 64 -> 64\\n            nn.Conv2d( in_channels=64, out_channels=64, kernel_size=3, padding=1 ),\\n            nn.BatchNorm2d(64),\\n            nn.ReLU(),\\n\\n            #### 이미지 크기 절반으로 -> 8x8\\n            nn.MaxPool2d(2),\\n\\n            # 채널 64 -> 128\\n            nn.Conv2d( in_channels=64, out_channels=128, kernel_size=3, padding=1 ),\\n            nn.BatchNorm2d(128),\\n            nn.ReLU(),\\n\\n            # 채널 128 -> 128\\n            nn.Conv2d( in_channels=128, out_channels=128, kernel_size=3, padding=1 ),\\n            nn.BatchNorm2d(128),\\n            nn.ReLU(),\\n\\n            # 채널 128 -> 128\\n            nn.Conv2d( in_channels=128, out_channels=128, kernel_size=3, padding=1 ),\\n            nn.BatchNorm2d(128),\\n            nn.ReLU(),\\n\\n            # 채널 128 -> 128\\n            nn.Conv2d( in_channels=128, out_channels=128, kernel_size=3, padding=1 ),\\n            nn.BatchNorm2d(128),\\n            nn.ReLU(),\\n\\n            # 채널 128 -> 256\\n            nn.Conv2d( in_channels=128, out_channels=256, kernel_size=3, padding=1 ),\\n            nn.BatchNorm2d(256),\\n            nn.ReLU(),\\n\\n            # 채널 256 -> 256\\n            nn.Conv2d( in_channels=256, out_channels=256, kernel_size=3, padding=1 ),\\n            nn.BatchNorm2d(256),\\n            nn.ReLU(),\\n\\n            # 채널 256 -> 256\\n            nn.Conv2d( in_channels=256, out_channels=256, kernel_size=3, padding=1 ),\\n            nn.BatchNorm2d(256),\\n            nn.ReLU(),\\n\\n            # 채널 256 -> 256\\n            nn.Conv2d( in_channels=256, out_channels=256, kernel_size=3, padding=1 ),\\n            nn.BatchNorm2d(256),\\n            nn.ReLU(),\\n\\n            # 채널 256 -> 128\\n            nn.Conv2d( in_channels=256, out_channels=128, kernel_size=3, padding=1 ),\\n            nn.BatchNorm2d(128),\\n            nn.ReLU(),\\n\\n            # 채널 128 -> 128\\n            nn.Conv2d( in_channels=128, out_channels=128, kernel_size=3, padding=1 ),\\n            nn.BatchNorm2d(128),\\n            nn.ReLU(),\\n\\n            # 채널 128 -> 128\\n            nn.Conv2d( in_channels=128, out_channels=128, kernel_size=3, padding=1 ),\\n            nn.BatchNorm2d(128),\\n            nn.ReLU(),\\n\\n            #### 이미지 크기 절반으로 -> 4x4\\n            nn.MaxPool2d(2),\\n\\n            # 채널 128 -> 256\\n            nn.Conv2d( in_channels=128, out_channels=256, kernel_size=3, padding=1 ),\\n            nn.BatchNorm2d(256),\\n            nn.ReLU(),\\n\\n            # 채널 256 -> 256\\n            nn.Conv2d( in_channels=256, out_channels=256, kernel_size=3, padding=1 ),\\n            nn.BatchNorm2d(256),\\n            nn.ReLU(),\\n\\n            # 채널 256 -> 256\\n            nn.Conv2d( in_channels=256, out_channels=256, kernel_size=3, padding=1 ),\\n            nn.BatchNorm2d(256),\\n            nn.ReLU(),\\n\\n            # 채널 256 -> 256\\n            nn.Conv2d( in_channels=256, out_channels=256, kernel_size=3, padding=1 ),\\n            nn.BatchNorm2d(256),\\n            nn.ReLU(),\\n\\n            # #### 이미지 크기 절반으로 -> 2x2\\n            # nn.MaxPool2d(2),\\n\\n            # # 채널 256 -> 512\\n            # nn.Conv2d( in_channels=256, out_channels=512, kernel_size=3, padding=1 ),\\n            # nn.BatchNorm2d(512),\\n            # nn.ReLU(),\\n\\n            # # 채널 512 -> 512\\n            # nn.Conv2d( in_channels=512, out_channels=512, kernel_size=3, padding=1 ),\\n            # nn.BatchNorm2d(512),\\n            # nn.ReLU(),\\n\\n            # # 채널 512 -> 512\\n            # nn.Conv2d( in_channels=512, out_channels=512, kernel_size=3, padding=1 ),\\n            # nn.BatchNorm2d(512),\\n            # nn.ReLU(),\\n\\n            # # 채널 512 -> 512\\n            # nn.Conv2d( in_channels=512, out_channels=512, kernel_size=3, padding=1 ),\\n            # nn.BatchNorm2d(512),\\n            # nn.ReLU(),\\n\\n\\n\\n\\n        )\\n\\n        self.fc_layers = nn.Sequential(\\n\\n            ######## 수정 가능\\n\\n            # [ fc layer의 입력 노드 수 ] = 최종 채널 x 이미지 크기\\n            # = 64 x 8 x 8\\n\\n            # nn.Linear( 128 * 8 * 8, 100 ),\\n            nn.Linear( 256 * 4 * 4, 100 ),\\n            # nn.Linear( 64 * 16 * 16, 100 ),\\n\\n            # 이 경우 fc layer가 하나만 있는 형태이고,\\n            # 원한다면 fc layer를 더 추가할 수 있음\\n            # 마지막 fc layer의 출력 노드 수는 100이어야 함\\n\\n\\n        )\\n\\n\\n    def forward(self, x):\\n\\n        ######## 수정 가능\\n\\n        x = self.conv_layers(x)\\n\\n        x = x.view( x.size(0), -1 ) # flatten\\n\\n        x = self.fc_layers(x)\\n\\n        return x\\n'"
      ]
     },
     "execution_count": 8,
     "metadata": {},
     "output_type": "execute_result"
    }
   ],
   "source": [
    "# CNN의 구조를 변경\n",
    "# simpleCNN, GoogleNet, VGGNet, ResNet\n",
    "\n",
    "class SimpleCNN(nn.Module):\n",
    "    # -----\n",
    "    class basic_block(nn.Module):\n",
    "        def __init__(self, numOf_inCH, numOf_outCH, stride=1):\n",
    "            super().__init__()\n",
    "\n",
    "            self.residual_function = nn.Sequential(\n",
    "                nn.Conv2d(numOf_inCH, numOf_outCH, kernel_size=3, stride=stride, padding=1, bias=False),\n",
    "                nn.BatchNorm2d(numOf_outCH),\n",
    "                nn.ReLU(inplace=True),\n",
    "                nn.Conv2d(numOf_outCH, numOf_outCH, kernel_size=3, padding=1, bias=False),\n",
    "                nn.BatchNorm2d(numOf_outCH)\n",
    "            )\n",
    "\n",
    "            self.shortcut = nn.Sequential()\n",
    "\n",
    "            if stride != 1 or numOf_inCH != numOf_outCH:\n",
    "                self.shortcut = nn.Sequential(\n",
    "                    nn.Conv2d(numOf_inCH, numOf_outCH, kernel_size=1, stride=stride, bias=False),\n",
    "                    nn.BatchNorm2d(numOf_outCH)\n",
    "                )\n",
    "\n",
    "        def forward(self, x):\n",
    "            return nn.ReLU(inplace=True)(self.residual_function(x) + self.shortcut(x))\n",
    "\n",
    "    # ----- basic_block end\n",
    "\n",
    "\n",
    "    # -----\n",
    "    def __init__(self, block=basic_block, num_block=[2, 3, 3, 2], num_classes=100):\n",
    "        super().__init__()\n",
    "\n",
    "        self.numOf_inCH = 64\n",
    "\n",
    "        self.conv1 = nn.Sequential(\n",
    "            nn.Conv2d(3, 64, kernel_size=3, padding=1, bias=False),\n",
    "            nn.BatchNorm2d(64),\n",
    "            nn.ReLU(inplace=True)\n",
    "            )\n",
    "        self.conv2_x = self._make_layer(block, 64, num_block[0], 1)\n",
    "        self.conv3_x = self._make_layer(block, 128, num_block[1], 2)\n",
    "        self.conv4_x = self._make_layer(block, 256, num_block[2], 2)\n",
    "        self.conv5_x = self._make_layer(block, 512, num_block[3], 2)\n",
    "        self.avg_pool = nn.AdaptiveAvgPool2d((1, 1))\n",
    "        self.fc = nn.Linear(512, num_classes)\n",
    "\n",
    "    def _make_layer(self, block, numOf_outCH, num_blocks, stride):\n",
    "        strides = [stride] + [1] * (num_blocks - 1)\n",
    "        layers = []\n",
    "        for stride in strides:\n",
    "            layers.append(block(self.numOf_inCH, numOf_outCH, stride))\n",
    "            self.numOf_inCH = numOf_outCH\n",
    "\n",
    "        return nn.Sequential(*layers)\n",
    "\n",
    "    def forward(self, x):\n",
    "        output = self.conv1(x)\n",
    "        output = self.conv2_x(output)\n",
    "        output = self.conv3_x(output)\n",
    "        output = self.conv4_x(output)\n",
    "        output = self.conv5_x(output)\n",
    "        output = self.avg_pool(output)\n",
    "        output = output.view(output.size(0), -1)\n",
    "        output = self.fc(output)\n",
    "\n",
    "        return output\n",
    "# ----- SimpleCNN end\n"
   ]
  },
  {
   "cell_type": "code",
   "execution_count": 9,
   "metadata": {
    "colab": {
     "base_uri": "https://localhost:8080/"
    },
    "id": "-lKWDBrDqNNH",
    "outputId": "d3888bfd-28d8-4d8c-b255-f2a377de81cc"
   },
   "outputs": [
    {
     "name": "stdout",
     "output_type": "stream",
     "text": [
      "torch.Size([7, 100])\n"
     ]
    }
   ],
   "source": [
    "# 모델 테스트\n",
    "# 랜덤한 값으로 만든 이미지를 모델에 통과시켜 본 후 결과 텐서의 사이즈가 (7, 100)이 나오는지 확인된다면 OK.\n",
    "# 이 코드가 에러가 나는 경우 Conv2d의 채널 수가 맞는지 fc layer의 노드 수가 맞는지 확인 필요\n",
    "\n",
    "# 배치사이즈 7\n",
    "# RGB 3채널\n",
    "# 이미지 사이즈 32x32\n",
    "# 랜덤값의 입력 데이터를 모델에 통과시켜 결과 모양을 확인\n",
    "\n",
    "temp = SimpleCNN()\n",
    "output = torch.randn( 7, 3, 32, 32)\n",
    "\n",
    "print( temp(output).size() )\n"
   ]
  },
  {
   "cell_type": "markdown",
   "metadata": {
    "id": "U64W-Kim_QuZ"
   },
   "source": [
    "### Hyperparameters\n",
    "---\n"
   ]
  },
  {
   "cell_type": "code",
   "execution_count": 10,
   "metadata": {
    "id": "FtKz3gmF_NTT"
   },
   "outputs": [],
   "source": [
    "# 하이퍼파라미터\n",
    "\n",
    "batch_size = 16 # 배치 사이즈 (한번에 몇 개의 이미지를 배치로 학습할지)\n",
    "learning_rate = 0.0002 # 학습률 (학습 진행 스텝의 크기)\n",
    "num_epochs = 100 # 에폭 수 (데이터셋 한번 학습 단위, 얼마나 학습을 반복할 것인지)\n",
    "\n",
    "extra_epochs = 5\n",
    "extra_timing_ratio = 0.91\n",
    "# extra_learning_rate = 0.0004"
   ]
  },
  {
   "cell_type": "markdown",
   "metadata": {
    "id": "LMj08zU5Cj9p"
   },
   "source": [
    "### Setup the data loaders\n",
    "---\n"
   ]
  },
  {
   "cell_type": "code",
   "execution_count": 11,
   "metadata": {
    "id": "XqBcfSB9QQbW"
   },
   "outputs": [],
   "source": [
    "train_loader = torch.utils.data.DataLoader(train_set, batch_size=batch_size, shuffle=True)\n",
    "test_loader = torch.utils.data.DataLoader(test_set, batch_size=batch_size, shuffle=False)\n",
    "\n"
   ]
  },
  {
   "cell_type": "markdown",
   "metadata": {
    "id": "2qowiiqIQvxl"
   },
   "source": [
    "### Instantiate the model\n",
    "---"
   ]
  },
  {
   "cell_type": "code",
   "execution_count": 12,
   "metadata": {
    "colab": {
     "base_uri": "https://localhost:8080/"
    },
    "id": "z2Fe9zzeQzRB",
    "outputId": "fced30f8-09a4-4e1f-8d44-9f1dc2120979"
   },
   "outputs": [
    {
     "data": {
      "text/plain": [
       "SimpleCNN(\n",
       "  (conv1): Sequential(\n",
       "    (0): Conv2d(3, 64, kernel_size=(3, 3), stride=(1, 1), padding=(1, 1), bias=False)\n",
       "    (1): BatchNorm2d(64, eps=1e-05, momentum=0.1, affine=True, track_running_stats=True)\n",
       "    (2): ReLU(inplace=True)\n",
       "  )\n",
       "  (conv2_x): Sequential(\n",
       "    (0): basic_block(\n",
       "      (residual_function): Sequential(\n",
       "        (0): Conv2d(64, 64, kernel_size=(3, 3), stride=(1, 1), padding=(1, 1), bias=False)\n",
       "        (1): BatchNorm2d(64, eps=1e-05, momentum=0.1, affine=True, track_running_stats=True)\n",
       "        (2): ReLU(inplace=True)\n",
       "        (3): Conv2d(64, 64, kernel_size=(3, 3), stride=(1, 1), padding=(1, 1), bias=False)\n",
       "        (4): BatchNorm2d(64, eps=1e-05, momentum=0.1, affine=True, track_running_stats=True)\n",
       "      )\n",
       "      (shortcut): Sequential()\n",
       "    )\n",
       "    (1): basic_block(\n",
       "      (residual_function): Sequential(\n",
       "        (0): Conv2d(64, 64, kernel_size=(3, 3), stride=(1, 1), padding=(1, 1), bias=False)\n",
       "        (1): BatchNorm2d(64, eps=1e-05, momentum=0.1, affine=True, track_running_stats=True)\n",
       "        (2): ReLU(inplace=True)\n",
       "        (3): Conv2d(64, 64, kernel_size=(3, 3), stride=(1, 1), padding=(1, 1), bias=False)\n",
       "        (4): BatchNorm2d(64, eps=1e-05, momentum=0.1, affine=True, track_running_stats=True)\n",
       "      )\n",
       "      (shortcut): Sequential()\n",
       "    )\n",
       "  )\n",
       "  (conv3_x): Sequential(\n",
       "    (0): basic_block(\n",
       "      (residual_function): Sequential(\n",
       "        (0): Conv2d(64, 128, kernel_size=(3, 3), stride=(2, 2), padding=(1, 1), bias=False)\n",
       "        (1): BatchNorm2d(128, eps=1e-05, momentum=0.1, affine=True, track_running_stats=True)\n",
       "        (2): ReLU(inplace=True)\n",
       "        (3): Conv2d(128, 128, kernel_size=(3, 3), stride=(1, 1), padding=(1, 1), bias=False)\n",
       "        (4): BatchNorm2d(128, eps=1e-05, momentum=0.1, affine=True, track_running_stats=True)\n",
       "      )\n",
       "      (shortcut): Sequential(\n",
       "        (0): Conv2d(64, 128, kernel_size=(1, 1), stride=(2, 2), bias=False)\n",
       "        (1): BatchNorm2d(128, eps=1e-05, momentum=0.1, affine=True, track_running_stats=True)\n",
       "      )\n",
       "    )\n",
       "    (1): basic_block(\n",
       "      (residual_function): Sequential(\n",
       "        (0): Conv2d(128, 128, kernel_size=(3, 3), stride=(1, 1), padding=(1, 1), bias=False)\n",
       "        (1): BatchNorm2d(128, eps=1e-05, momentum=0.1, affine=True, track_running_stats=True)\n",
       "        (2): ReLU(inplace=True)\n",
       "        (3): Conv2d(128, 128, kernel_size=(3, 3), stride=(1, 1), padding=(1, 1), bias=False)\n",
       "        (4): BatchNorm2d(128, eps=1e-05, momentum=0.1, affine=True, track_running_stats=True)\n",
       "      )\n",
       "      (shortcut): Sequential()\n",
       "    )\n",
       "    (2): basic_block(\n",
       "      (residual_function): Sequential(\n",
       "        (0): Conv2d(128, 128, kernel_size=(3, 3), stride=(1, 1), padding=(1, 1), bias=False)\n",
       "        (1): BatchNorm2d(128, eps=1e-05, momentum=0.1, affine=True, track_running_stats=True)\n",
       "        (2): ReLU(inplace=True)\n",
       "        (3): Conv2d(128, 128, kernel_size=(3, 3), stride=(1, 1), padding=(1, 1), bias=False)\n",
       "        (4): BatchNorm2d(128, eps=1e-05, momentum=0.1, affine=True, track_running_stats=True)\n",
       "      )\n",
       "      (shortcut): Sequential()\n",
       "    )\n",
       "  )\n",
       "  (conv4_x): Sequential(\n",
       "    (0): basic_block(\n",
       "      (residual_function): Sequential(\n",
       "        (0): Conv2d(128, 256, kernel_size=(3, 3), stride=(2, 2), padding=(1, 1), bias=False)\n",
       "        (1): BatchNorm2d(256, eps=1e-05, momentum=0.1, affine=True, track_running_stats=True)\n",
       "        (2): ReLU(inplace=True)\n",
       "        (3): Conv2d(256, 256, kernel_size=(3, 3), stride=(1, 1), padding=(1, 1), bias=False)\n",
       "        (4): BatchNorm2d(256, eps=1e-05, momentum=0.1, affine=True, track_running_stats=True)\n",
       "      )\n",
       "      (shortcut): Sequential(\n",
       "        (0): Conv2d(128, 256, kernel_size=(1, 1), stride=(2, 2), bias=False)\n",
       "        (1): BatchNorm2d(256, eps=1e-05, momentum=0.1, affine=True, track_running_stats=True)\n",
       "      )\n",
       "    )\n",
       "    (1): basic_block(\n",
       "      (residual_function): Sequential(\n",
       "        (0): Conv2d(256, 256, kernel_size=(3, 3), stride=(1, 1), padding=(1, 1), bias=False)\n",
       "        (1): BatchNorm2d(256, eps=1e-05, momentum=0.1, affine=True, track_running_stats=True)\n",
       "        (2): ReLU(inplace=True)\n",
       "        (3): Conv2d(256, 256, kernel_size=(3, 3), stride=(1, 1), padding=(1, 1), bias=False)\n",
       "        (4): BatchNorm2d(256, eps=1e-05, momentum=0.1, affine=True, track_running_stats=True)\n",
       "      )\n",
       "      (shortcut): Sequential()\n",
       "    )\n",
       "    (2): basic_block(\n",
       "      (residual_function): Sequential(\n",
       "        (0): Conv2d(256, 256, kernel_size=(3, 3), stride=(1, 1), padding=(1, 1), bias=False)\n",
       "        (1): BatchNorm2d(256, eps=1e-05, momentum=0.1, affine=True, track_running_stats=True)\n",
       "        (2): ReLU(inplace=True)\n",
       "        (3): Conv2d(256, 256, kernel_size=(3, 3), stride=(1, 1), padding=(1, 1), bias=False)\n",
       "        (4): BatchNorm2d(256, eps=1e-05, momentum=0.1, affine=True, track_running_stats=True)\n",
       "      )\n",
       "      (shortcut): Sequential()\n",
       "    )\n",
       "  )\n",
       "  (conv5_x): Sequential(\n",
       "    (0): basic_block(\n",
       "      (residual_function): Sequential(\n",
       "        (0): Conv2d(256, 512, kernel_size=(3, 3), stride=(2, 2), padding=(1, 1), bias=False)\n",
       "        (1): BatchNorm2d(512, eps=1e-05, momentum=0.1, affine=True, track_running_stats=True)\n",
       "        (2): ReLU(inplace=True)\n",
       "        (3): Conv2d(512, 512, kernel_size=(3, 3), stride=(1, 1), padding=(1, 1), bias=False)\n",
       "        (4): BatchNorm2d(512, eps=1e-05, momentum=0.1, affine=True, track_running_stats=True)\n",
       "      )\n",
       "      (shortcut): Sequential(\n",
       "        (0): Conv2d(256, 512, kernel_size=(1, 1), stride=(2, 2), bias=False)\n",
       "        (1): BatchNorm2d(512, eps=1e-05, momentum=0.1, affine=True, track_running_stats=True)\n",
       "      )\n",
       "    )\n",
       "    (1): basic_block(\n",
       "      (residual_function): Sequential(\n",
       "        (0): Conv2d(512, 512, kernel_size=(3, 3), stride=(1, 1), padding=(1, 1), bias=False)\n",
       "        (1): BatchNorm2d(512, eps=1e-05, momentum=0.1, affine=True, track_running_stats=True)\n",
       "        (2): ReLU(inplace=True)\n",
       "        (3): Conv2d(512, 512, kernel_size=(3, 3), stride=(1, 1), padding=(1, 1), bias=False)\n",
       "        (4): BatchNorm2d(512, eps=1e-05, momentum=0.1, affine=True, track_running_stats=True)\n",
       "      )\n",
       "      (shortcut): Sequential()\n",
       "    )\n",
       "  )\n",
       "  (avg_pool): AdaptiveAvgPool2d(output_size=(1, 1))\n",
       "  (fc): Linear(in_features=512, out_features=100, bias=True)\n",
       ")"
      ]
     },
     "execution_count": 12,
     "metadata": {},
     "output_type": "execute_result"
    }
   ],
   "source": [
    "model = SimpleCNN()\n",
    "\n",
    "model.to(device)\n"
   ]
  },
  {
   "cell_type": "markdown",
   "metadata": {
    "id": "fTgOBgWQQ3Nc"
   },
   "source": [
    "### Train the model\n",
    "---\n"
   ]
  },
  {
   "cell_type": "code",
   "execution_count": 13,
   "metadata": {
    "id": "JcuWxEnnRfGX"
   },
   "outputs": [],
   "source": [
    "import math\n",
    "import torch\n",
    "from torch.optim.lr_scheduler import _LRScheduler\n",
    "\n",
    "# optimizer 방식을 변경 원하는 경우 변경 가능\n",
    "\n",
    "criterion = nn.CrossEntropyLoss()\n",
    "\n",
    "# optimizer = torch.optim.SGD(model.parameters(), lr=learning_rate, weight_decay=0.0001)\n",
    "optimizer = torch.optim.Adam(model.parameters(), lr=learning_rate, weight_decay=0.5e-4)\n",
    "\n",
    "# Tip: optimizer 수정.\n",
    "# 1. optimizer 선택, 추천 : SGD, Adam -> pytorch optimizer 검색\n",
    "# 2. learning rate 설정: SGD에서 0.1 -> Adam에서 0.001 (1/50 ~ 1/100)\n",
    "# 3. weight decay : 과적합 방지 (추가) 0.0001 ~ 0.0005 정도\n",
    "# 4. learning rate scheduler : 학습 중간에 lr를 바꿔주는 방법. lr_scheduler pytorch 검색 ->\n",
    "# scheduler = CosineAnnealingWarmupRestarts(optimizer, first_cycle_steps=30, cycle_mult=1.0, max_lr=0.004, min_lr=0.00001, warmup_steps=5, gamma=0.5)\n",
    "# scheduler = CosineAnnealingWarmupRestarts(optimizer, first_cycle_steps=25, cycle_mult=1.0, max_lr=0.001, min_lr=0.0000001, warmup_steps=5, gamma=0.1)\n",
    "# scheduler = torch.optim.lr_scheduler.MultiStepLR(optimizer, milestones=[30, 60, 80], gamma=0.2)\n",
    "# scheduler = torch.optim.lr_scheduler.MultiStepLR(optimizer, milestones=[10, 25, 45, 70], gamma=0.1)\n",
    "# scheduler = torch.optim.lr_scheduler.ReduceLROnPlateau(optimizer, 'min', patience=4, verbose=True)\n",
    "scheduler = torch.optim.lr_scheduler.OneCycleLR(optimizer, learning_rate, epochs=num_epochs, steps_per_epoch=len(train_loader))"
   ]
  },
  {
   "cell_type": "code",
   "execution_count": 14,
   "metadata": {
    "id": "SHkcPL-RRmEA"
   },
   "outputs": [],
   "source": [
    "from statistics import mean\n",
    "\n",
    "def train(optimizer, model, num_epochs=10, first_epoch=1):\n",
    "\n",
    "    extra_flag = False\n",
    "\n",
    "    criterion = nn.CrossEntropyLoss()\n",
    "\n",
    "    train_losses = []\n",
    "    test_losses = []\n",
    "\n",
    "    # Best test accuracy\n",
    "    best_test_acc = 0\n",
    "\n",
    "    for epoch in range(first_epoch, first_epoch + num_epochs + extra_epochs):\n",
    "        print('Epoch', epoch)\n",
    "\n",
    "        # train phase\n",
    "        model.train()\n",
    "\n",
    "        # create a progress bar\n",
    "        progress = ProgressMonitor(length=len(train_set))\n",
    "\n",
    "        # keep track of predictions\n",
    "        correct_train = 0\n",
    "\n",
    "        batch_losses = []\n",
    "\n",
    "        for batch, targets in train_loader:\n",
    "\n",
    "            # Move the training data to the GPU\n",
    "            batch = batch.to(device)\n",
    "            targets = targets.to(device)\n",
    "\n",
    "            # clear previous gradient computation\n",
    "#             optimizer.zero_grad()\n",
    "\n",
    "            # forward propagation\n",
    "            outputs = model(batch)\n",
    "\n",
    "            # calculate the loss\n",
    "            loss = criterion(outputs, targets)\n",
    "\n",
    "            # backpropagate to compute gradients\n",
    "            loss.backward()\n",
    "\n",
    "            #!\n",
    "            grad_clip = 0.1\n",
    "            if grad_clip:\n",
    "                nn.utils.clip_grad_value_(model.parameters(), grad_clip)\n",
    "\n",
    "            # update model weights\n",
    "            optimizer.step()\n",
    "            optimizer.zero_grad() #!\n",
    "\n",
    "            batch_losses.append(loss.item())\n",
    "\n",
    "            # accumulate correct count\n",
    "            _, preds = torch.max(outputs, 1)\n",
    "            correct_train += torch.sum(preds == targets.data)\n",
    "\n",
    "            # update progress bar\n",
    "            progress.update(batch.shape[0], mean(batch_losses) )\n",
    "\n",
    "            # --------------------\n",
    "            if not extra_flag:\n",
    "                scheduler.step()\n",
    "            # --------------------\n",
    "\n",
    "        # --------------------\n",
    "        if int(num_epochs * extra_timing_ratio) == epoch:\n",
    "            extra_flag = True\n",
    "        elif int(num_epochs * extra_timing_ratio) + extra_epochs == epoch:\n",
    "            extra_flag = False\n",
    "        # --------------------\n",
    "        train_losses.append( mean(batch_losses))\n",
    "\n",
    "\n",
    "        # test phase\n",
    "        model.eval()\n",
    "\n",
    "        y_pred = []\n",
    "\n",
    "        correct_test = 0\n",
    "\n",
    "        # We don't need gradients for test, so wrap in\n",
    "        # no_grad to save memory\n",
    "        with torch.no_grad():\n",
    "\n",
    "            for batch, targets in test_loader:\n",
    "\n",
    "                # Move the training batch to the GPU\n",
    "                batch = batch.to(device)\n",
    "                targets = targets.to(device)\n",
    "\n",
    "                # forward propagation\n",
    "                outputs = model(batch)\n",
    "\n",
    "                # calculate the loss\n",
    "                loss = criterion(outputs, targets)\n",
    "\n",
    "                # save predictions\n",
    "                y_pred.extend( outputs.argmax(dim=1).cpu().numpy() )\n",
    "\n",
    "                # accumulate correct count\n",
    "                _, preds = torch.max(outputs, 1)\n",
    "                correct_test += torch.sum(preds == targets.data)\n",
    "\n",
    "\n",
    "\n",
    "        # Calculate accuracy\n",
    "        train_acc = correct_train.item() / train_set.data.shape[0]\n",
    "        test_acc = correct_test.item() / test_set.data.shape[0]\n",
    "\n",
    "        print('Training accuracy: {:.2f}%'.format(float(train_acc) * 100), \"lr: {:.8f}\\t\".format(optimizer.param_groups[0][\"lr\"]))\n",
    "        print('Test accuracy: {:.2f}%'.format(float(test_acc) * 100))\n",
    "\n",
    "        # --------------------\n",
    "#         scheduler.step()\n",
    "        # --------------------\n",
    "\n",
    "        # Save the best model\n",
    "        if test_acc > best_test_acc:\n",
    "            best_test_acc = test_acc\n",
    "            if SAVEATDRIVE:\n",
    "                torch.save( model.state_dict(), '/content/drive/MyDrive/인공지능의이해와활용/best_model_v'+str(VERSION)+'.pt' )\n",
    "            else:\n",
    "                torch.save( model.state_dict(), 'best_model_v'+str(VERSION)+'.pt' )\n",
    "            print( '    ==> Best model saved!\\n' )\n",
    "\n",
    "\n",
    "    return train_losses, test_losses, y_pred"
   ]
  },
  {
   "cell_type": "markdown",
   "metadata": {
    "id": "EN9A06V8RtGi"
   },
   "source": [
    "### Checkpointing\n",
    "---"
   ]
  },
  {
   "cell_type": "code",
   "execution_count": 15,
   "metadata": {
    "colab": {
     "base_uri": "https://localhost:8080/",
     "height": 1000
    },
    "id": "iPgk2q20Rq6Q",
    "outputId": "7e90eef0-1268-4c81-d3ad-af5eb7c80013"
   },
   "outputs": [
    {
     "name": "stdout",
     "output_type": "stream",
     "text": [
      "Epoch 1\n"
     ]
    },
    {
     "data": {
      "text/html": [
       "\n",
       "        <table style=\"width: 100%;\">\n",
       "            <tbody>\n",
       "                <tr>\n",
       "                    <td style=\"width: 30%;\">\n",
       "                     <b>Loss: 4.0819</b> &nbsp&nbsp&nbsp 50000 / 50000\n",
       "                    </td>\n",
       "                    <td style=\"width: 70%;\">\n",
       "                        <progress value='50000' max='50000', style='width: 100%'>50000</progress>\n",
       "                    </td>\n",
       "                </tr>\n",
       "            </tbody>\n",
       "        </table>\n",
       "        "
      ],
      "text/plain": [
       "<IPython.core.display.HTML object>"
      ]
     },
     "metadata": {},
     "output_type": "display_data"
    },
    {
     "name": "stdout",
     "output_type": "stream",
     "text": [
      "Training accuracy: 8.20% lr: 0.00000853\t\n",
      "Test accuracy: 14.72%\n",
      "    ==> Best model saved!\n",
      "\n",
      "Epoch 2\n"
     ]
    },
    {
     "data": {
      "text/html": [
       "\n",
       "        <table style=\"width: 100%;\">\n",
       "            <tbody>\n",
       "                <tr>\n",
       "                    <td style=\"width: 30%;\">\n",
       "                     <b>Loss: 3.6556</b> &nbsp&nbsp&nbsp 47216 / 50000\n",
       "                    </td>\n",
       "                    <td style=\"width: 70%;\">\n",
       "                        <progress value='47216' max='50000', style='width: 100%'>47216</progress>\n",
       "                    </td>\n",
       "                </tr>\n",
       "            </tbody>\n",
       "        </table>\n",
       "        "
      ],
      "text/plain": [
       "<IPython.core.display.HTML object>"
      ]
     },
     "metadata": {},
     "output_type": "display_data"
    },
    {
     "name": "stderr",
     "output_type": "stream",
     "text": [
      "IOPub message rate exceeded.\n",
      "The notebook server will temporarily stop sending output\n",
      "to the client in order to avoid crashing it.\n",
      "To change this limit, set the config variable\n",
      "`--NotebookApp.iopub_msg_rate_limit`.\n",
      "\n",
      "Current values:\n",
      "NotebookApp.iopub_msg_rate_limit=1000.0 (msgs/sec)\n",
      "NotebookApp.rate_limit_window=3.0 (secs)\n",
      "\n"
     ]
    },
    {
     "name": "stdout",
     "output_type": "stream",
     "text": [
      "Training accuracy: 18.96% lr: 0.00001270\t\n",
      "Test accuracy: 25.07%\n",
      "    ==> Best model saved!\n",
      "\n",
      "Epoch 4\n"
     ]
    },
    {
     "data": {
      "text/html": [
       "\n",
       "        <table style=\"width: 100%;\">\n",
       "            <tbody>\n",
       "                <tr>\n",
       "                    <td style=\"width: 30%;\">\n",
       "                     <b>Loss: 3.1932</b> &nbsp&nbsp&nbsp 50000 / 50000\n",
       "                    </td>\n",
       "                    <td style=\"width: 70%;\">\n",
       "                        <progress value='50000' max='50000', style='width: 100%'>50000</progress>\n",
       "                    </td>\n",
       "                </tr>\n",
       "            </tbody>\n",
       "        </table>\n",
       "        "
      ],
      "text/plain": [
       "<IPython.core.display.HTML object>"
      ]
     },
     "metadata": {},
     "output_type": "display_data"
    },
    {
     "name": "stdout",
     "output_type": "stream",
     "text": [
      "Training accuracy: 22.66% lr: 0.00001630\t\n",
      "Test accuracy: 29.16%\n",
      "    ==> Best model saved!\n",
      "\n",
      "Epoch 5\n"
     ]
    },
    {
     "data": {
      "text/html": [
       "\n",
       "        <table style=\"width: 100%;\">\n",
       "            <tbody>\n",
       "                <tr>\n",
       "                    <td style=\"width: 30%;\">\n",
       "                     <b>Loss: 3.0269</b> &nbsp&nbsp&nbsp 50000 / 50000\n",
       "                    </td>\n",
       "                    <td style=\"width: 70%;\">\n",
       "                        <progress value='50000' max='50000', style='width: 100%'>50000</progress>\n",
       "                    </td>\n",
       "                </tr>\n",
       "            </tbody>\n",
       "        </table>\n",
       "        "
      ],
      "text/plain": [
       "<IPython.core.display.HTML object>"
      ]
     },
     "metadata": {},
     "output_type": "display_data"
    },
    {
     "name": "stdout",
     "output_type": "stream",
     "text": [
      "Training accuracy: 25.64% lr: 0.00002086\t\n",
      "Test accuracy: 32.52%\n",
      "    ==> Best model saved!\n",
      "\n",
      "Epoch 6\n"
     ]
    },
    {
     "data": {
      "text/html": [
       "\n",
       "        <table style=\"width: 100%;\">\n",
       "            <tbody>\n",
       "                <tr>\n",
       "                    <td style=\"width: 30%;\">\n",
       "                     <b>Loss: 2.8625</b> &nbsp&nbsp&nbsp 50000 / 50000\n",
       "                    </td>\n",
       "                    <td style=\"width: 70%;\">\n",
       "                        <progress value='50000' max='50000', style='width: 100%'>50000</progress>\n",
       "                    </td>\n",
       "                </tr>\n",
       "            </tbody>\n",
       "        </table>\n",
       "        "
      ],
      "text/plain": [
       "<IPython.core.display.HTML object>"
      ]
     },
     "metadata": {},
     "output_type": "display_data"
    },
    {
     "name": "stdout",
     "output_type": "stream",
     "text": [
      "Training accuracy: 28.90% lr: 0.00002633\t\n",
      "Test accuracy: 34.18%\n",
      "    ==> Best model saved!\n",
      "\n",
      "Epoch 7\n"
     ]
    },
    {
     "data": {
      "text/html": [
       "\n",
       "        <table style=\"width: 100%;\">\n",
       "            <tbody>\n",
       "                <tr>\n",
       "                    <td style=\"width: 30%;\">\n",
       "                     <b>Loss: 2.7087</b> &nbsp&nbsp&nbsp 50000 / 50000\n",
       "                    </td>\n",
       "                    <td style=\"width: 70%;\">\n",
       "                        <progress value='50000' max='50000', style='width: 100%'>50000</progress>\n",
       "                    </td>\n",
       "                </tr>\n",
       "            </tbody>\n",
       "        </table>\n",
       "        "
      ],
      "text/plain": [
       "<IPython.core.display.HTML object>"
      ]
     },
     "metadata": {},
     "output_type": "display_data"
    },
    {
     "name": "stdout",
     "output_type": "stream",
     "text": [
      "Training accuracy: 32.12% lr: 0.00003266\t\n",
      "Test accuracy: 36.33%\n",
      "    ==> Best model saved!\n",
      "\n",
      "Epoch 8\n"
     ]
    },
    {
     "data": {
      "text/html": [
       "\n",
       "        <table style=\"width: 100%;\">\n",
       "            <tbody>\n",
       "                <tr>\n",
       "                    <td style=\"width: 30%;\">\n",
       "                     <b>Loss: 2.5721</b> &nbsp&nbsp&nbsp 50000 / 50000\n",
       "                    </td>\n",
       "                    <td style=\"width: 70%;\">\n",
       "                        <progress value='50000' max='50000', style='width: 100%'>50000</progress>\n",
       "                    </td>\n",
       "                </tr>\n",
       "            </tbody>\n",
       "        </table>\n",
       "        "
      ],
      "text/plain": [
       "<IPython.core.display.HTML object>"
      ]
     },
     "metadata": {},
     "output_type": "display_data"
    },
    {
     "name": "stdout",
     "output_type": "stream",
     "text": [
      "Training accuracy: 34.85% lr: 0.00003976\t\n",
      "Test accuracy: 39.17%\n",
      "    ==> Best model saved!\n",
      "\n",
      "Epoch 9\n"
     ]
    },
    {
     "data": {
      "text/html": [
       "\n",
       "        <table style=\"width: 100%;\">\n",
       "            <tbody>\n",
       "                <tr>\n",
       "                    <td style=\"width: 30%;\">\n",
       "                     <b>Loss: 2.4479</b> &nbsp&nbsp&nbsp 50000 / 50000\n",
       "                    </td>\n",
       "                    <td style=\"width: 70%;\">\n",
       "                        <progress value='50000' max='50000', style='width: 100%'>50000</progress>\n",
       "                    </td>\n",
       "                </tr>\n",
       "            </tbody>\n",
       "        </table>\n",
       "        "
      ],
      "text/plain": [
       "<IPython.core.display.HTML object>"
      ]
     },
     "metadata": {},
     "output_type": "display_data"
    },
    {
     "name": "stdout",
     "output_type": "stream",
     "text": [
      "Training accuracy: 37.25% lr: 0.00004757\t\n",
      "Test accuracy: 40.87%\n",
      "    ==> Best model saved!\n",
      "\n",
      "Epoch 10\n"
     ]
    },
    {
     "data": {
      "text/html": [
       "\n",
       "        <table style=\"width: 100%;\">\n",
       "            <tbody>\n",
       "                <tr>\n",
       "                    <td style=\"width: 30%;\">\n",
       "                     <b>Loss: 2.3196</b> &nbsp&nbsp&nbsp 50000 / 50000\n",
       "                    </td>\n",
       "                    <td style=\"width: 70%;\">\n",
       "                        <progress value='50000' max='50000', style='width: 100%'>50000</progress>\n",
       "                    </td>\n",
       "                </tr>\n",
       "            </tbody>\n",
       "        </table>\n",
       "        "
      ],
      "text/plain": [
       "<IPython.core.display.HTML object>"
      ]
     },
     "metadata": {},
     "output_type": "display_data"
    },
    {
     "name": "stdout",
     "output_type": "stream",
     "text": [
      "Training accuracy: 40.15% lr: 0.00005600\t\n",
      "Test accuracy: 43.62%\n",
      "    ==> Best model saved!\n",
      "\n",
      "Epoch 11\n"
     ]
    },
    {
     "data": {
      "text/html": [
       "\n",
       "        <table style=\"width: 100%;\">\n",
       "            <tbody>\n",
       "                <tr>\n",
       "                    <td style=\"width: 30%;\">\n",
       "                     <b>Loss: 2.2009</b> &nbsp&nbsp&nbsp 50000 / 50000\n",
       "                    </td>\n",
       "                    <td style=\"width: 70%;\">\n",
       "                        <progress value='50000' max='50000', style='width: 100%'>50000</progress>\n",
       "                    </td>\n",
       "                </tr>\n",
       "            </tbody>\n",
       "        </table>\n",
       "        "
      ],
      "text/plain": [
       "<IPython.core.display.HTML object>"
      ]
     },
     "metadata": {},
     "output_type": "display_data"
    },
    {
     "name": "stdout",
     "output_type": "stream",
     "text": [
      "Training accuracy: 42.65% lr: 0.00006495\t\n",
      "Test accuracy: 47.38%\n",
      "    ==> Best model saved!\n",
      "\n",
      "Epoch 12\n"
     ]
    },
    {
     "data": {
      "text/html": [
       "\n",
       "        <table style=\"width: 100%;\">\n",
       "            <tbody>\n",
       "                <tr>\n",
       "                    <td style=\"width: 30%;\">\n",
       "                     <b>Loss: 2.1048</b> &nbsp&nbsp&nbsp 50000 / 50000\n",
       "                    </td>\n",
       "                    <td style=\"width: 70%;\">\n",
       "                        <progress value='50000' max='50000', style='width: 100%'>50000</progress>\n",
       "                    </td>\n",
       "                </tr>\n",
       "            </tbody>\n",
       "        </table>\n",
       "        "
      ],
      "text/plain": [
       "<IPython.core.display.HTML object>"
      ]
     },
     "metadata": {},
     "output_type": "display_data"
    },
    {
     "name": "stdout",
     "output_type": "stream",
     "text": [
      "Training accuracy: 44.65% lr: 0.00007434\t\n",
      "Test accuracy: 49.01%\n",
      "    ==> Best model saved!\n",
      "\n",
      "Epoch 13\n"
     ]
    },
    {
     "data": {
      "text/html": [
       "\n",
       "        <table style=\"width: 100%;\">\n",
       "            <tbody>\n",
       "                <tr>\n",
       "                    <td style=\"width: 30%;\">\n",
       "                     <b>Loss: 2.0090</b> &nbsp&nbsp&nbsp 50000 / 50000\n",
       "                    </td>\n",
       "                    <td style=\"width: 70%;\">\n",
       "                        <progress value='50000' max='50000', style='width: 100%'>50000</progress>\n",
       "                    </td>\n",
       "                </tr>\n",
       "            </tbody>\n",
       "        </table>\n",
       "        "
      ],
      "text/plain": [
       "<IPython.core.display.HTML object>"
      ]
     },
     "metadata": {},
     "output_type": "display_data"
    },
    {
     "name": "stdout",
     "output_type": "stream",
     "text": [
      "Training accuracy: 46.77% lr: 0.00008404\t\n",
      "Test accuracy: 49.91%\n",
      "    ==> Best model saved!\n",
      "\n",
      "Epoch 14\n"
     ]
    },
    {
     "data": {
      "text/html": [
       "\n",
       "        <table style=\"width: 100%;\">\n",
       "            <tbody>\n",
       "                <tr>\n",
       "                    <td style=\"width: 30%;\">\n",
       "                     <b>Loss: 1.9086</b> &nbsp&nbsp&nbsp 50000 / 50000\n",
       "                    </td>\n",
       "                    <td style=\"width: 70%;\">\n",
       "                        <progress value='50000' max='50000', style='width: 100%'>50000</progress>\n",
       "                    </td>\n",
       "                </tr>\n",
       "            </tbody>\n",
       "        </table>\n",
       "        "
      ],
      "text/plain": [
       "<IPython.core.display.HTML object>"
      ]
     },
     "metadata": {},
     "output_type": "display_data"
    },
    {
     "name": "stdout",
     "output_type": "stream",
     "text": [
      "Training accuracy: 48.86% lr: 0.00009397\t\n",
      "Test accuracy: 51.99%\n",
      "    ==> Best model saved!\n",
      "\n",
      "Epoch 15\n"
     ]
    },
    {
     "data": {
      "text/html": [
       "\n",
       "        <table style=\"width: 100%;\">\n",
       "            <tbody>\n",
       "                <tr>\n",
       "                    <td style=\"width: 30%;\">\n",
       "                     <b>Loss: 1.8420</b> &nbsp&nbsp&nbsp 50000 / 50000\n",
       "                    </td>\n",
       "                    <td style=\"width: 70%;\">\n",
       "                        <progress value='50000' max='50000', style='width: 100%'>50000</progress>\n",
       "                    </td>\n",
       "                </tr>\n",
       "            </tbody>\n",
       "        </table>\n",
       "        "
      ],
      "text/plain": [
       "<IPython.core.display.HTML object>"
      ]
     },
     "metadata": {},
     "output_type": "display_data"
    },
    {
     "name": "stdout",
     "output_type": "stream",
     "text": [
      "Training accuracy: 50.19% lr: 0.00010400\t\n",
      "Test accuracy: 54.71%\n",
      "    ==> Best model saved!\n",
      "\n",
      "Epoch 16\n"
     ]
    },
    {
     "data": {
      "text/html": [
       "\n",
       "        <table style=\"width: 100%;\">\n",
       "            <tbody>\n",
       "                <tr>\n",
       "                    <td style=\"width: 30%;\">\n",
       "                     <b>Loss: 1.7785</b> &nbsp&nbsp&nbsp 50000 / 50000\n",
       "                    </td>\n",
       "                    <td style=\"width: 70%;\">\n",
       "                        <progress value='50000' max='50000', style='width: 100%'>50000</progress>\n",
       "                    </td>\n",
       "                </tr>\n",
       "            </tbody>\n",
       "        </table>\n",
       "        "
      ],
      "text/plain": [
       "<IPython.core.display.HTML object>"
      ]
     },
     "metadata": {},
     "output_type": "display_data"
    },
    {
     "name": "stdout",
     "output_type": "stream",
     "text": [
      "Training accuracy: 51.91% lr: 0.00011404\t\n",
      "Test accuracy: 53.45%\n",
      "Epoch 17\n"
     ]
    },
    {
     "data": {
      "text/html": [
       "\n",
       "        <table style=\"width: 100%;\">\n",
       "            <tbody>\n",
       "                <tr>\n",
       "                    <td style=\"width: 30%;\">\n",
       "                     <b>Loss: 1.7107</b> &nbsp&nbsp&nbsp 50000 / 50000\n",
       "                    </td>\n",
       "                    <td style=\"width: 70%;\">\n",
       "                        <progress value='50000' max='50000', style='width: 100%'>50000</progress>\n",
       "                    </td>\n",
       "                </tr>\n",
       "            </tbody>\n",
       "        </table>\n",
       "        "
      ],
      "text/plain": [
       "<IPython.core.display.HTML object>"
      ]
     },
     "metadata": {},
     "output_type": "display_data"
    },
    {
     "name": "stdout",
     "output_type": "stream",
     "text": [
      "Training accuracy: 53.25% lr: 0.00012396\t\n",
      "Test accuracy: 55.82%\n",
      "    ==> Best model saved!\n",
      "\n",
      "Epoch 18\n"
     ]
    },
    {
     "data": {
      "text/html": [
       "\n",
       "        <table style=\"width: 100%;\">\n",
       "            <tbody>\n",
       "                <tr>\n",
       "                    <td style=\"width: 30%;\">\n",
       "                     <b>Loss: 1.6463</b> &nbsp&nbsp&nbsp 50000 / 50000\n",
       "                    </td>\n",
       "                    <td style=\"width: 70%;\">\n",
       "                        <progress value='50000' max='50000', style='width: 100%'>50000</progress>\n",
       "                    </td>\n",
       "                </tr>\n",
       "            </tbody>\n",
       "        </table>\n",
       "        "
      ],
      "text/plain": [
       "<IPython.core.display.HTML object>"
      ]
     },
     "metadata": {},
     "output_type": "display_data"
    },
    {
     "name": "stdout",
     "output_type": "stream",
     "text": [
      "Training accuracy: 54.86% lr: 0.00013367\t\n",
      "Test accuracy: 57.63%\n",
      "    ==> Best model saved!\n",
      "\n",
      "Epoch 19\n"
     ]
    },
    {
     "data": {
      "text/html": [
       "\n",
       "        <table style=\"width: 100%;\">\n",
       "            <tbody>\n",
       "                <tr>\n",
       "                    <td style=\"width: 30%;\">\n",
       "                     <b>Loss: 1.5949</b> &nbsp&nbsp&nbsp 50000 / 50000\n",
       "                    </td>\n",
       "                    <td style=\"width: 70%;\">\n",
       "                        <progress value='50000' max='50000', style='width: 100%'>50000</progress>\n",
       "                    </td>\n",
       "                </tr>\n",
       "            </tbody>\n",
       "        </table>\n",
       "        "
      ],
      "text/plain": [
       "<IPython.core.display.HTML object>"
      ]
     },
     "metadata": {},
     "output_type": "display_data"
    },
    {
     "name": "stdout",
     "output_type": "stream",
     "text": [
      "Training accuracy: 55.95% lr: 0.00014305\t\n",
      "Test accuracy: 58.25%\n",
      "    ==> Best model saved!\n",
      "\n",
      "Epoch 20\n"
     ]
    },
    {
     "data": {
      "text/html": [
       "\n",
       "        <table style=\"width: 100%;\">\n",
       "            <tbody>\n",
       "                <tr>\n",
       "                    <td style=\"width: 30%;\">\n",
       "                     <b>Loss: 1.5405</b> &nbsp&nbsp&nbsp 50000 / 50000\n",
       "                    </td>\n",
       "                    <td style=\"width: 70%;\">\n",
       "                        <progress value='50000' max='50000', style='width: 100%'>50000</progress>\n",
       "                    </td>\n",
       "                </tr>\n",
       "            </tbody>\n",
       "        </table>\n",
       "        "
      ],
      "text/plain": [
       "<IPython.core.display.HTML object>"
      ]
     },
     "metadata": {},
     "output_type": "display_data"
    },
    {
     "name": "stdout",
     "output_type": "stream",
     "text": [
      "Training accuracy: 57.51% lr: 0.00015200\t\n",
      "Test accuracy: 58.76%\n",
      "    ==> Best model saved!\n",
      "\n",
      "Epoch 21\n"
     ]
    },
    {
     "data": {
      "text/html": [
       "\n",
       "        <table style=\"width: 100%;\">\n",
       "            <tbody>\n",
       "                <tr>\n",
       "                    <td style=\"width: 30%;\">\n",
       "                     <b>Loss: 1.4941</b> &nbsp&nbsp&nbsp 50000 / 50000\n",
       "                    </td>\n",
       "                    <td style=\"width: 70%;\">\n",
       "                        <progress value='50000' max='50000', style='width: 100%'>50000</progress>\n",
       "                    </td>\n",
       "                </tr>\n",
       "            </tbody>\n",
       "        </table>\n",
       "        "
      ],
      "text/plain": [
       "<IPython.core.display.HTML object>"
      ]
     },
     "metadata": {},
     "output_type": "display_data"
    },
    {
     "name": "stdout",
     "output_type": "stream",
     "text": [
      "Training accuracy: 58.43% lr: 0.00016043\t\n",
      "Test accuracy: 60.19%\n",
      "    ==> Best model saved!\n",
      "\n",
      "Epoch 22\n"
     ]
    },
    {
     "data": {
      "text/html": [
       "\n",
       "        <table style=\"width: 100%;\">\n",
       "            <tbody>\n",
       "                <tr>\n",
       "                    <td style=\"width: 30%;\">\n",
       "                     <b>Loss: 1.4607</b> &nbsp&nbsp&nbsp 50000 / 50000\n",
       "                    </td>\n",
       "                    <td style=\"width: 70%;\">\n",
       "                        <progress value='50000' max='50000', style='width: 100%'>50000</progress>\n",
       "                    </td>\n",
       "                </tr>\n",
       "            </tbody>\n",
       "        </table>\n",
       "        "
      ],
      "text/plain": [
       "<IPython.core.display.HTML object>"
      ]
     },
     "metadata": {},
     "output_type": "display_data"
    },
    {
     "name": "stdout",
     "output_type": "stream",
     "text": [
      "Training accuracy: 59.19% lr: 0.00016824\t\n",
      "Test accuracy: 58.51%\n",
      "Epoch 23\n"
     ]
    },
    {
     "data": {
      "text/html": [
       "\n",
       "        <table style=\"width: 100%;\">\n",
       "            <tbody>\n",
       "                <tr>\n",
       "                    <td style=\"width: 30%;\">\n",
       "                     <b>Loss: 1.3975</b> &nbsp&nbsp&nbsp 50000 / 50000\n",
       "                    </td>\n",
       "                    <td style=\"width: 70%;\">\n",
       "                        <progress value='50000' max='50000', style='width: 100%'>50000</progress>\n",
       "                    </td>\n",
       "                </tr>\n",
       "            </tbody>\n",
       "        </table>\n",
       "        "
      ],
      "text/plain": [
       "<IPython.core.display.HTML object>"
      ]
     },
     "metadata": {},
     "output_type": "display_data"
    },
    {
     "name": "stdout",
     "output_type": "stream",
     "text": [
      "Training accuracy: 60.83% lr: 0.00017534\t\n",
      "Test accuracy: 58.65%\n",
      "Epoch 24\n"
     ]
    },
    {
     "data": {
      "text/html": [
       "\n",
       "        <table style=\"width: 100%;\">\n",
       "            <tbody>\n",
       "                <tr>\n",
       "                    <td style=\"width: 30%;\">\n",
       "                     <b>Loss: 1.3711</b> &nbsp&nbsp&nbsp 50000 / 50000\n",
       "                    </td>\n",
       "                    <td style=\"width: 70%;\">\n",
       "                        <progress value='50000' max='50000', style='width: 100%'>50000</progress>\n",
       "                    </td>\n",
       "                </tr>\n",
       "            </tbody>\n",
       "        </table>\n",
       "        "
      ],
      "text/plain": [
       "<IPython.core.display.HTML object>"
      ]
     },
     "metadata": {},
     "output_type": "display_data"
    },
    {
     "name": "stdout",
     "output_type": "stream",
     "text": [
      "Training accuracy: 61.51% lr: 0.00018167\t\n",
      "Test accuracy: 61.17%\n",
      "    ==> Best model saved!\n",
      "\n",
      "Epoch 25\n"
     ]
    },
    {
     "data": {
      "text/html": [
       "\n",
       "        <table style=\"width: 100%;\">\n",
       "            <tbody>\n",
       "                <tr>\n",
       "                    <td style=\"width: 30%;\">\n",
       "                     <b>Loss: 1.3159</b> &nbsp&nbsp&nbsp 50000 / 50000\n",
       "                    </td>\n",
       "                    <td style=\"width: 70%;\">\n",
       "                        <progress value='50000' max='50000', style='width: 100%'>50000</progress>\n",
       "                    </td>\n",
       "                </tr>\n",
       "            </tbody>\n",
       "        </table>\n",
       "        "
      ],
      "text/plain": [
       "<IPython.core.display.HTML object>"
      ]
     },
     "metadata": {},
     "output_type": "display_data"
    },
    {
     "name": "stdout",
     "output_type": "stream",
     "text": [
      "Training accuracy: 62.85% lr: 0.00018714\t\n",
      "Test accuracy: 61.80%\n",
      "    ==> Best model saved!\n",
      "\n",
      "Epoch 26\n"
     ]
    },
    {
     "data": {
      "text/html": [
       "\n",
       "        <table style=\"width: 100%;\">\n",
       "            <tbody>\n",
       "                <tr>\n",
       "                    <td style=\"width: 30%;\">\n",
       "                     <b>Loss: 1.2844</b> &nbsp&nbsp&nbsp 50000 / 50000\n",
       "                    </td>\n",
       "                    <td style=\"width: 70%;\">\n",
       "                        <progress value='50000' max='50000', style='width: 100%'>50000</progress>\n",
       "                    </td>\n",
       "                </tr>\n",
       "            </tbody>\n",
       "        </table>\n",
       "        "
      ],
      "text/plain": [
       "<IPython.core.display.HTML object>"
      ]
     },
     "metadata": {},
     "output_type": "display_data"
    },
    {
     "name": "stdout",
     "output_type": "stream",
     "text": [
      "Training accuracy: 63.61% lr: 0.00019170\t\n",
      "Test accuracy: 63.41%\n",
      "    ==> Best model saved!\n",
      "\n",
      "Epoch 27\n"
     ]
    },
    {
     "data": {
      "text/html": [
       "\n",
       "        <table style=\"width: 100%;\">\n",
       "            <tbody>\n",
       "                <tr>\n",
       "                    <td style=\"width: 30%;\">\n",
       "                     <b>Loss: 1.2540</b> &nbsp&nbsp&nbsp 50000 / 50000\n",
       "                    </td>\n",
       "                    <td style=\"width: 70%;\">\n",
       "                        <progress value='50000' max='50000', style='width: 100%'>50000</progress>\n",
       "                    </td>\n",
       "                </tr>\n",
       "            </tbody>\n",
       "        </table>\n",
       "        "
      ],
      "text/plain": [
       "<IPython.core.display.HTML object>"
      ]
     },
     "metadata": {},
     "output_type": "display_data"
    },
    {
     "name": "stdout",
     "output_type": "stream",
     "text": [
      "Training accuracy: 64.25% lr: 0.00019530\t\n",
      "Test accuracy: 62.64%\n",
      "Epoch 28\n"
     ]
    },
    {
     "data": {
      "text/html": [
       "\n",
       "        <table style=\"width: 100%;\">\n",
       "            <tbody>\n",
       "                <tr>\n",
       "                    <td style=\"width: 30%;\">\n",
       "                     <b>Loss: 1.2016</b> &nbsp&nbsp&nbsp 50000 / 50000\n",
       "                    </td>\n",
       "                    <td style=\"width: 70%;\">\n",
       "                        <progress value='50000' max='50000', style='width: 100%'>50000</progress>\n",
       "                    </td>\n",
       "                </tr>\n",
       "            </tbody>\n",
       "        </table>\n",
       "        "
      ],
      "text/plain": [
       "<IPython.core.display.HTML object>"
      ]
     },
     "metadata": {},
     "output_type": "display_data"
    },
    {
     "name": "stdout",
     "output_type": "stream",
     "text": [
      "Training accuracy: 65.44% lr: 0.00019790\t\n",
      "Test accuracy: 63.44%\n",
      "    ==> Best model saved!\n",
      "\n",
      "Epoch 29\n"
     ]
    },
    {
     "data": {
      "text/html": [
       "\n",
       "        <table style=\"width: 100%;\">\n",
       "            <tbody>\n",
       "                <tr>\n",
       "                    <td style=\"width: 30%;\">\n",
       "                     <b>Loss: 1.1641</b> &nbsp&nbsp&nbsp 50000 / 50000\n",
       "                    </td>\n",
       "                    <td style=\"width: 70%;\">\n",
       "                        <progress value='50000' max='50000', style='width: 100%'>50000</progress>\n",
       "                    </td>\n",
       "                </tr>\n",
       "            </tbody>\n",
       "        </table>\n",
       "        "
      ],
      "text/plain": [
       "<IPython.core.display.HTML object>"
      ]
     },
     "metadata": {},
     "output_type": "display_data"
    },
    {
     "name": "stdout",
     "output_type": "stream",
     "text": [
      "Training accuracy: 66.78% lr: 0.00019947\t\n",
      "Test accuracy: 65.87%\n",
      "    ==> Best model saved!\n",
      "\n",
      "Epoch 30\n"
     ]
    },
    {
     "data": {
      "text/html": [
       "\n",
       "        <table style=\"width: 100%;\">\n",
       "            <tbody>\n",
       "                <tr>\n",
       "                    <td style=\"width: 30%;\">\n",
       "                     <b>Loss: 1.1310</b> &nbsp&nbsp&nbsp 50000 / 50000\n",
       "                    </td>\n",
       "                    <td style=\"width: 70%;\">\n",
       "                        <progress value='50000' max='50000', style='width: 100%'>50000</progress>\n",
       "                    </td>\n",
       "                </tr>\n",
       "            </tbody>\n",
       "        </table>\n",
       "        "
      ],
      "text/plain": [
       "<IPython.core.display.HTML object>"
      ]
     },
     "metadata": {},
     "output_type": "display_data"
    },
    {
     "name": "stdout",
     "output_type": "stream",
     "text": [
      "Training accuracy: 67.28% lr: 0.00020000\t\n",
      "Test accuracy: 64.77%\n",
      "Epoch 31\n"
     ]
    },
    {
     "data": {
      "text/html": [
       "\n",
       "        <table style=\"width: 100%;\">\n",
       "            <tbody>\n",
       "                <tr>\n",
       "                    <td style=\"width: 30%;\">\n",
       "                     <b>Loss: 1.0891</b> &nbsp&nbsp&nbsp 50000 / 50000\n",
       "                    </td>\n",
       "                    <td style=\"width: 70%;\">\n",
       "                        <progress value='50000' max='50000', style='width: 100%'>50000</progress>\n",
       "                    </td>\n",
       "                </tr>\n",
       "            </tbody>\n",
       "        </table>\n",
       "        "
      ],
      "text/plain": [
       "<IPython.core.display.HTML object>"
      ]
     },
     "metadata": {},
     "output_type": "display_data"
    },
    {
     "name": "stdout",
     "output_type": "stream",
     "text": [
      "Training accuracy: 68.31% lr: 0.00019990\t\n",
      "Test accuracy: 66.16%\n",
      "    ==> Best model saved!\n",
      "\n",
      "Epoch 32\n"
     ]
    },
    {
     "data": {
      "text/html": [
       "\n",
       "        <table style=\"width: 100%;\">\n",
       "            <tbody>\n",
       "                <tr>\n",
       "                    <td style=\"width: 30%;\">\n",
       "                     <b>Loss: 1.0545</b> &nbsp&nbsp&nbsp 50000 / 50000\n",
       "                    </td>\n",
       "                    <td style=\"width: 70%;\">\n",
       "                        <progress value='50000' max='50000', style='width: 100%'>50000</progress>\n",
       "                    </td>\n",
       "                </tr>\n",
       "            </tbody>\n",
       "        </table>\n",
       "        "
      ],
      "text/plain": [
       "<IPython.core.display.HTML object>"
      ]
     },
     "metadata": {},
     "output_type": "display_data"
    },
    {
     "name": "stdout",
     "output_type": "stream",
     "text": [
      "Training accuracy: 69.35% lr: 0.00019960\t\n",
      "Test accuracy: 65.73%\n",
      "Epoch 33\n"
     ]
    },
    {
     "data": {
      "text/html": [
       "\n",
       "        <table style=\"width: 100%;\">\n",
       "            <tbody>\n",
       "                <tr>\n",
       "                    <td style=\"width: 30%;\">\n",
       "                     <b>Loss: 1.0263</b> &nbsp&nbsp&nbsp 50000 / 50000\n",
       "                    </td>\n",
       "                    <td style=\"width: 70%;\">\n",
       "                        <progress value='50000' max='50000', style='width: 100%'>50000</progress>\n",
       "                    </td>\n",
       "                </tr>\n",
       "            </tbody>\n",
       "        </table>\n",
       "        "
      ],
      "text/plain": [
       "<IPython.core.display.HTML object>"
      ]
     },
     "metadata": {},
     "output_type": "display_data"
    },
    {
     "name": "stdout",
     "output_type": "stream",
     "text": [
      "Training accuracy: 69.97% lr: 0.00019909\t\n",
      "Test accuracy: 65.62%\n",
      "Epoch 34\n"
     ]
    },
    {
     "data": {
      "text/html": [
       "\n",
       "        <table style=\"width: 100%;\">\n",
       "            <tbody>\n",
       "                <tr>\n",
       "                    <td style=\"width: 30%;\">\n",
       "                     <b>Loss: 0.9775</b> &nbsp&nbsp&nbsp 50000 / 50000\n",
       "                    </td>\n",
       "                    <td style=\"width: 70%;\">\n",
       "                        <progress value='50000' max='50000', style='width: 100%'>50000</progress>\n",
       "                    </td>\n",
       "                </tr>\n",
       "            </tbody>\n",
       "        </table>\n",
       "        "
      ],
      "text/plain": [
       "<IPython.core.display.HTML object>"
      ]
     },
     "metadata": {},
     "output_type": "display_data"
    },
    {
     "name": "stdout",
     "output_type": "stream",
     "text": [
      "Training accuracy: 71.15% lr: 0.00019839\t\n",
      "Test accuracy: 67.02%\n",
      "    ==> Best model saved!\n",
      "\n",
      "Epoch 35\n"
     ]
    },
    {
     "data": {
      "text/html": [
       "\n",
       "        <table style=\"width: 100%;\">\n",
       "            <tbody>\n",
       "                <tr>\n",
       "                    <td style=\"width: 30%;\">\n",
       "                     <b>Loss: 0.9537</b> &nbsp&nbsp&nbsp 50000 / 50000\n",
       "                    </td>\n",
       "                    <td style=\"width: 70%;\">\n",
       "                        <progress value='50000' max='50000', style='width: 100%'>50000</progress>\n",
       "                    </td>\n",
       "                </tr>\n",
       "            </tbody>\n",
       "        </table>\n",
       "        "
      ],
      "text/plain": [
       "<IPython.core.display.HTML object>"
      ]
     },
     "metadata": {},
     "output_type": "display_data"
    },
    {
     "name": "stdout",
     "output_type": "stream",
     "text": [
      "Training accuracy: 72.09% lr: 0.00019749\t\n",
      "Test accuracy: 66.69%\n",
      "Epoch 36\n"
     ]
    },
    {
     "data": {
      "text/html": [
       "\n",
       "        <table style=\"width: 100%;\">\n",
       "            <tbody>\n",
       "                <tr>\n",
       "                    <td style=\"width: 30%;\">\n",
       "                     <b>Loss: 0.9196</b> &nbsp&nbsp&nbsp 50000 / 50000\n",
       "                    </td>\n",
       "                    <td style=\"width: 70%;\">\n",
       "                        <progress value='50000' max='50000', style='width: 100%'>50000</progress>\n",
       "                    </td>\n",
       "                </tr>\n",
       "            </tbody>\n",
       "        </table>\n",
       "        "
      ],
      "text/plain": [
       "<IPython.core.display.HTML object>"
      ]
     },
     "metadata": {},
     "output_type": "display_data"
    },
    {
     "name": "stdout",
     "output_type": "stream",
     "text": [
      "Training accuracy: 72.68% lr: 0.00019640\t\n",
      "Test accuracy: 67.78%\n",
      "    ==> Best model saved!\n",
      "\n",
      "Epoch 37\n"
     ]
    },
    {
     "data": {
      "text/html": [
       "\n",
       "        <table style=\"width: 100%;\">\n",
       "            <tbody>\n",
       "                <tr>\n",
       "                    <td style=\"width: 30%;\">\n",
       "                     <b>Loss: 0.8889</b> &nbsp&nbsp&nbsp 50000 / 50000\n",
       "                    </td>\n",
       "                    <td style=\"width: 70%;\">\n",
       "                        <progress value='50000' max='50000', style='width: 100%'>50000</progress>\n",
       "                    </td>\n",
       "                </tr>\n",
       "            </tbody>\n",
       "        </table>\n",
       "        "
      ],
      "text/plain": [
       "<IPython.core.display.HTML object>"
      ]
     },
     "metadata": {},
     "output_type": "display_data"
    },
    {
     "name": "stdout",
     "output_type": "stream",
     "text": [
      "Training accuracy: 73.54% lr: 0.00019511\t\n",
      "Test accuracy: 68.02%\n",
      "    ==> Best model saved!\n",
      "\n",
      "Epoch 38\n"
     ]
    },
    {
     "data": {
      "text/html": [
       "\n",
       "        <table style=\"width: 100%;\">\n",
       "            <tbody>\n",
       "                <tr>\n",
       "                    <td style=\"width: 30%;\">\n",
       "                     <b>Loss: 0.8614</b> &nbsp&nbsp&nbsp 50000 / 50000\n",
       "                    </td>\n",
       "                    <td style=\"width: 70%;\">\n",
       "                        <progress value='50000' max='50000', style='width: 100%'>50000</progress>\n",
       "                    </td>\n",
       "                </tr>\n",
       "            </tbody>\n",
       "        </table>\n",
       "        "
      ],
      "text/plain": [
       "<IPython.core.display.HTML object>"
      ]
     },
     "metadata": {},
     "output_type": "display_data"
    },
    {
     "name": "stdout",
     "output_type": "stream",
     "text": [
      "Training accuracy: 74.38% lr: 0.00019362\t\n",
      "Test accuracy: 68.04%\n",
      "    ==> Best model saved!\n",
      "\n",
      "Epoch 39\n"
     ]
    },
    {
     "data": {
      "text/html": [
       "\n",
       "        <table style=\"width: 100%;\">\n",
       "            <tbody>\n",
       "                <tr>\n",
       "                    <td style=\"width: 30%;\">\n",
       "                     <b>Loss: 0.8246</b> &nbsp&nbsp&nbsp 50000 / 50000\n",
       "                    </td>\n",
       "                    <td style=\"width: 70%;\">\n",
       "                        <progress value='50000' max='50000', style='width: 100%'>50000</progress>\n",
       "                    </td>\n",
       "                </tr>\n",
       "            </tbody>\n",
       "        </table>\n",
       "        "
      ],
      "text/plain": [
       "<IPython.core.display.HTML object>"
      ]
     },
     "metadata": {},
     "output_type": "display_data"
    },
    {
     "name": "stdout",
     "output_type": "stream",
     "text": [
      "Training accuracy: 75.43% lr: 0.00019195\t\n",
      "Test accuracy: 69.56%\n",
      "    ==> Best model saved!\n",
      "\n",
      "Epoch 40\n"
     ]
    },
    {
     "data": {
      "text/html": [
       "\n",
       "        <table style=\"width: 100%;\">\n",
       "            <tbody>\n",
       "                <tr>\n",
       "                    <td style=\"width: 30%;\">\n",
       "                     <b>Loss: 0.8033</b> &nbsp&nbsp&nbsp 50000 / 50000\n",
       "                    </td>\n",
       "                    <td style=\"width: 70%;\">\n",
       "                        <progress value='50000' max='50000', style='width: 100%'>50000</progress>\n",
       "                    </td>\n",
       "                </tr>\n",
       "            </tbody>\n",
       "        </table>\n",
       "        "
      ],
      "text/plain": [
       "<IPython.core.display.HTML object>"
      ]
     },
     "metadata": {},
     "output_type": "display_data"
    },
    {
     "name": "stdout",
     "output_type": "stream",
     "text": [
      "Training accuracy: 75.92% lr: 0.00019010\t\n",
      "Test accuracy: 68.71%\n",
      "Epoch 41\n"
     ]
    },
    {
     "data": {
      "text/html": [
       "\n",
       "        <table style=\"width: 100%;\">\n",
       "            <tbody>\n",
       "                <tr>\n",
       "                    <td style=\"width: 30%;\">\n",
       "                     <b>Loss: 0.7789</b> &nbsp&nbsp&nbsp 50000 / 50000\n",
       "                    </td>\n",
       "                    <td style=\"width: 70%;\">\n",
       "                        <progress value='50000' max='50000', style='width: 100%'>50000</progress>\n",
       "                    </td>\n",
       "                </tr>\n",
       "            </tbody>\n",
       "        </table>\n",
       "        "
      ],
      "text/plain": [
       "<IPython.core.display.HTML object>"
      ]
     },
     "metadata": {},
     "output_type": "display_data"
    },
    {
     "name": "stdout",
     "output_type": "stream",
     "text": [
      "Training accuracy: 76.50% lr: 0.00018806\t\n",
      "Test accuracy: 68.21%\n",
      "Epoch 42\n"
     ]
    },
    {
     "data": {
      "text/html": [
       "\n",
       "        <table style=\"width: 100%;\">\n",
       "            <tbody>\n",
       "                <tr>\n",
       "                    <td style=\"width: 30%;\">\n",
       "                     <b>Loss: 0.7503</b> &nbsp&nbsp&nbsp 50000 / 50000\n",
       "                    </td>\n",
       "                    <td style=\"width: 70%;\">\n",
       "                        <progress value='50000' max='50000', style='width: 100%'>50000</progress>\n",
       "                    </td>\n",
       "                </tr>\n",
       "            </tbody>\n",
       "        </table>\n",
       "        "
      ],
      "text/plain": [
       "<IPython.core.display.HTML object>"
      ]
     },
     "metadata": {},
     "output_type": "display_data"
    },
    {
     "name": "stdout",
     "output_type": "stream",
     "text": [
      "Training accuracy: 77.21% lr: 0.00018584\t\n",
      "Test accuracy: 69.85%\n",
      "    ==> Best model saved!\n",
      "\n",
      "Epoch 43\n"
     ]
    },
    {
     "data": {
      "text/html": [
       "\n",
       "        <table style=\"width: 100%;\">\n",
       "            <tbody>\n",
       "                <tr>\n",
       "                    <td style=\"width: 30%;\">\n",
       "                     <b>Loss: 0.7229</b> &nbsp&nbsp&nbsp 50000 / 50000\n",
       "                    </td>\n",
       "                    <td style=\"width: 70%;\">\n",
       "                        <progress value='50000' max='50000', style='width: 100%'>50000</progress>\n",
       "                    </td>\n",
       "                </tr>\n",
       "            </tbody>\n",
       "        </table>\n",
       "        "
      ],
      "text/plain": [
       "<IPython.core.display.HTML object>"
      ]
     },
     "metadata": {},
     "output_type": "display_data"
    },
    {
     "name": "stdout",
     "output_type": "stream",
     "text": [
      "Training accuracy: 78.25% lr: 0.00018346\t\n",
      "Test accuracy: 69.19%\n",
      "Epoch 44\n"
     ]
    },
    {
     "data": {
      "text/html": [
       "\n",
       "        <table style=\"width: 100%;\">\n",
       "            <tbody>\n",
       "                <tr>\n",
       "                    <td style=\"width: 30%;\">\n",
       "                     <b>Loss: 0.6971</b> &nbsp&nbsp&nbsp 50000 / 50000\n",
       "                    </td>\n",
       "                    <td style=\"width: 70%;\">\n",
       "                        <progress value='50000' max='50000', style='width: 100%'>50000</progress>\n",
       "                    </td>\n",
       "                </tr>\n",
       "            </tbody>\n",
       "        </table>\n",
       "        "
      ],
      "text/plain": [
       "<IPython.core.display.HTML object>"
      ]
     },
     "metadata": {},
     "output_type": "display_data"
    },
    {
     "name": "stdout",
     "output_type": "stream",
     "text": [
      "Training accuracy: 78.73% lr: 0.00018090\t\n",
      "Test accuracy: 69.12%\n",
      "Epoch 45\n"
     ]
    },
    {
     "data": {
      "text/html": [
       "\n",
       "        <table style=\"width: 100%;\">\n",
       "            <tbody>\n",
       "                <tr>\n",
       "                    <td style=\"width: 30%;\">\n",
       "                     <b>Loss: 0.6795</b> &nbsp&nbsp&nbsp 50000 / 50000\n",
       "                    </td>\n",
       "                    <td style=\"width: 70%;\">\n",
       "                        <progress value='50000' max='50000', style='width: 100%'>50000</progress>\n",
       "                    </td>\n",
       "                </tr>\n",
       "            </tbody>\n",
       "        </table>\n",
       "        "
      ],
      "text/plain": [
       "<IPython.core.display.HTML object>"
      ]
     },
     "metadata": {},
     "output_type": "display_data"
    },
    {
     "name": "stdout",
     "output_type": "stream",
     "text": [
      "Training accuracy: 79.26% lr: 0.00017818\t\n",
      "Test accuracy: 70.01%\n",
      "    ==> Best model saved!\n",
      "\n",
      "Epoch 46\n"
     ]
    },
    {
     "data": {
      "text/html": [
       "\n",
       "        <table style=\"width: 100%;\">\n",
       "            <tbody>\n",
       "                <tr>\n",
       "                    <td style=\"width: 30%;\">\n",
       "                     <b>Loss: 0.6446</b> &nbsp&nbsp&nbsp 50000 / 50000\n",
       "                    </td>\n",
       "                    <td style=\"width: 70%;\">\n",
       "                        <progress value='50000' max='50000', style='width: 100%'>50000</progress>\n",
       "                    </td>\n",
       "                </tr>\n",
       "            </tbody>\n",
       "        </table>\n",
       "        "
      ],
      "text/plain": [
       "<IPython.core.display.HTML object>"
      ]
     },
     "metadata": {},
     "output_type": "display_data"
    },
    {
     "name": "stdout",
     "output_type": "stream",
     "text": [
      "Training accuracy: 80.07% lr: 0.00017531\t\n",
      "Test accuracy: 71.52%\n",
      "    ==> Best model saved!\n",
      "\n",
      "Epoch 47\n"
     ]
    },
    {
     "data": {
      "text/html": [
       "\n",
       "        <table style=\"width: 100%;\">\n",
       "            <tbody>\n",
       "                <tr>\n",
       "                    <td style=\"width: 30%;\">\n",
       "                     <b>Loss: 0.6214</b> &nbsp&nbsp&nbsp 50000 / 50000\n",
       "                    </td>\n",
       "                    <td style=\"width: 70%;\">\n",
       "                        <progress value='50000' max='50000', style='width: 100%'>50000</progress>\n",
       "                    </td>\n",
       "                </tr>\n",
       "            </tbody>\n",
       "        </table>\n",
       "        "
      ],
      "text/plain": [
       "<IPython.core.display.HTML object>"
      ]
     },
     "metadata": {},
     "output_type": "display_data"
    },
    {
     "name": "stdout",
     "output_type": "stream",
     "text": [
      "Training accuracy: 80.91% lr: 0.00017228\t\n",
      "Test accuracy: 71.14%\n",
      "Epoch 48\n"
     ]
    },
    {
     "data": {
      "text/html": [
       "\n",
       "        <table style=\"width: 100%;\">\n",
       "            <tbody>\n",
       "                <tr>\n",
       "                    <td style=\"width: 30%;\">\n",
       "                     <b>Loss: 0.6092</b> &nbsp&nbsp&nbsp 50000 / 50000\n",
       "                    </td>\n",
       "                    <td style=\"width: 70%;\">\n",
       "                        <progress value='50000' max='50000', style='width: 100%'>50000</progress>\n",
       "                    </td>\n",
       "                </tr>\n",
       "            </tbody>\n",
       "        </table>\n",
       "        "
      ],
      "text/plain": [
       "<IPython.core.display.HTML object>"
      ]
     },
     "metadata": {},
     "output_type": "display_data"
    },
    {
     "name": "stdout",
     "output_type": "stream",
     "text": [
      "Training accuracy: 81.19% lr: 0.00016911\t\n",
      "Test accuracy: 71.03%\n",
      "Epoch 49\n"
     ]
    },
    {
     "data": {
      "text/html": [
       "\n",
       "        <table style=\"width: 100%;\">\n",
       "            <tbody>\n",
       "                <tr>\n",
       "                    <td style=\"width: 30%;\">\n",
       "                     <b>Loss: 0.5764</b> &nbsp&nbsp&nbsp 50000 / 50000\n",
       "                    </td>\n",
       "                    <td style=\"width: 70%;\">\n",
       "                        <progress value='50000' max='50000', style='width: 100%'>50000</progress>\n",
       "                    </td>\n",
       "                </tr>\n",
       "            </tbody>\n",
       "        </table>\n",
       "        "
      ],
      "text/plain": [
       "<IPython.core.display.HTML object>"
      ]
     },
     "metadata": {},
     "output_type": "display_data"
    },
    {
     "name": "stdout",
     "output_type": "stream",
     "text": [
      "Training accuracy: 82.29% lr: 0.00016579\t\n",
      "Test accuracy: 71.10%\n",
      "Epoch 50\n"
     ]
    },
    {
     "data": {
      "text/html": [
       "\n",
       "        <table style=\"width: 100%;\">\n",
       "            <tbody>\n",
       "                <tr>\n",
       "                    <td style=\"width: 30%;\">\n",
       "                     <b>Loss: 0.5632</b> &nbsp&nbsp&nbsp 50000 / 50000\n",
       "                    </td>\n",
       "                    <td style=\"width: 70%;\">\n",
       "                        <progress value='50000' max='50000', style='width: 100%'>50000</progress>\n",
       "                    </td>\n",
       "                </tr>\n",
       "            </tbody>\n",
       "        </table>\n",
       "        "
      ],
      "text/plain": [
       "<IPython.core.display.HTML object>"
      ]
     },
     "metadata": {},
     "output_type": "display_data"
    },
    {
     "name": "stdout",
     "output_type": "stream",
     "text": [
      "Training accuracy: 82.41% lr: 0.00016235\t\n",
      "Test accuracy: 71.04%\n",
      "Epoch 51\n"
     ]
    },
    {
     "data": {
      "text/html": [
       "\n",
       "        <table style=\"width: 100%;\">\n",
       "            <tbody>\n",
       "                <tr>\n",
       "                    <td style=\"width: 30%;\">\n",
       "                     <b>Loss: 0.5280</b> &nbsp&nbsp&nbsp 50000 / 50000\n",
       "                    </td>\n",
       "                    <td style=\"width: 70%;\">\n",
       "                        <progress value='50000' max='50000', style='width: 100%'>50000</progress>\n",
       "                    </td>\n",
       "                </tr>\n",
       "            </tbody>\n",
       "        </table>\n",
       "        "
      ],
      "text/plain": [
       "<IPython.core.display.HTML object>"
      ]
     },
     "metadata": {},
     "output_type": "display_data"
    },
    {
     "name": "stdout",
     "output_type": "stream",
     "text": [
      "Training accuracy: 83.39% lr: 0.00015878\t\n",
      "Test accuracy: 70.63%\n",
      "Epoch 52\n"
     ]
    },
    {
     "data": {
      "text/html": [
       "\n",
       "        <table style=\"width: 100%;\">\n",
       "            <tbody>\n",
       "                <tr>\n",
       "                    <td style=\"width: 30%;\">\n",
       "                     <b>Loss: 0.5093</b> &nbsp&nbsp&nbsp 50000 / 50000\n",
       "                    </td>\n",
       "                    <td style=\"width: 70%;\">\n",
       "                        <progress value='50000' max='50000', style='width: 100%'>50000</progress>\n",
       "                    </td>\n",
       "                </tr>\n",
       "            </tbody>\n",
       "        </table>\n",
       "        "
      ],
      "text/plain": [
       "<IPython.core.display.HTML object>"
      ]
     },
     "metadata": {},
     "output_type": "display_data"
    },
    {
     "name": "stdout",
     "output_type": "stream",
     "text": [
      "Training accuracy: 84.04% lr: 0.00015509\t\n",
      "Test accuracy: 70.82%\n",
      "Epoch 53\n"
     ]
    },
    {
     "data": {
      "text/html": [
       "\n",
       "        <table style=\"width: 100%;\">\n",
       "            <tbody>\n",
       "                <tr>\n",
       "                    <td style=\"width: 30%;\">\n",
       "                     <b>Loss: 0.4925</b> &nbsp&nbsp&nbsp 50000 / 50000\n",
       "                    </td>\n",
       "                    <td style=\"width: 70%;\">\n",
       "                        <progress value='50000' max='50000', style='width: 100%'>50000</progress>\n",
       "                    </td>\n",
       "                </tr>\n",
       "            </tbody>\n",
       "        </table>\n",
       "        "
      ],
      "text/plain": [
       "<IPython.core.display.HTML object>"
      ]
     },
     "metadata": {},
     "output_type": "display_data"
    },
    {
     "name": "stdout",
     "output_type": "stream",
     "text": [
      "Training accuracy: 84.55% lr: 0.00015129\t\n",
      "Test accuracy: 71.11%\n",
      "Epoch 54\n"
     ]
    },
    {
     "data": {
      "text/html": [
       "\n",
       "        <table style=\"width: 100%;\">\n",
       "            <tbody>\n",
       "                <tr>\n",
       "                    <td style=\"width: 30%;\">\n",
       "                     <b>Loss: 0.4686</b> &nbsp&nbsp&nbsp 50000 / 50000\n",
       "                    </td>\n",
       "                    <td style=\"width: 70%;\">\n",
       "                        <progress value='50000' max='50000', style='width: 100%'>50000</progress>\n",
       "                    </td>\n",
       "                </tr>\n",
       "            </tbody>\n",
       "        </table>\n",
       "        "
      ],
      "text/plain": [
       "<IPython.core.display.HTML object>"
      ]
     },
     "metadata": {},
     "output_type": "display_data"
    },
    {
     "name": "stdout",
     "output_type": "stream",
     "text": [
      "Training accuracy: 85.24% lr: 0.00014739\t\n",
      "Test accuracy: 71.22%\n",
      "Epoch 55\n"
     ]
    },
    {
     "data": {
      "text/html": [
       "\n",
       "        <table style=\"width: 100%;\">\n",
       "            <tbody>\n",
       "                <tr>\n",
       "                    <td style=\"width: 30%;\">\n",
       "                     <b>Loss: 0.4538</b> &nbsp&nbsp&nbsp 50000 / 50000\n",
       "                    </td>\n",
       "                    <td style=\"width: 70%;\">\n",
       "                        <progress value='50000' max='50000', style='width: 100%'>50000</progress>\n",
       "                    </td>\n",
       "                </tr>\n",
       "            </tbody>\n",
       "        </table>\n",
       "        "
      ],
      "text/plain": [
       "<IPython.core.display.HTML object>"
      ]
     },
     "metadata": {},
     "output_type": "display_data"
    },
    {
     "name": "stdout",
     "output_type": "stream",
     "text": [
      "Training accuracy: 85.66% lr: 0.00014339\t\n",
      "Test accuracy: 71.23%\n",
      "Epoch 56\n"
     ]
    },
    {
     "data": {
      "text/html": [
       "\n",
       "        <table style=\"width: 100%;\">\n",
       "            <tbody>\n",
       "                <tr>\n",
       "                    <td style=\"width: 30%;\">\n",
       "                     <b>Loss: 0.4312</b> &nbsp&nbsp&nbsp 50000 / 50000\n",
       "                    </td>\n",
       "                    <td style=\"width: 70%;\">\n",
       "                        <progress value='50000' max='50000', style='width: 100%'>50000</progress>\n",
       "                    </td>\n",
       "                </tr>\n",
       "            </tbody>\n",
       "        </table>\n",
       "        "
      ],
      "text/plain": [
       "<IPython.core.display.HTML object>"
      ]
     },
     "metadata": {},
     "output_type": "display_data"
    },
    {
     "name": "stdout",
     "output_type": "stream",
     "text": [
      "Training accuracy: 86.23% lr: 0.00013930\t\n",
      "Test accuracy: 71.22%\n",
      "Epoch 57\n"
     ]
    },
    {
     "data": {
      "text/html": [
       "\n",
       "        <table style=\"width: 100%;\">\n",
       "            <tbody>\n",
       "                <tr>\n",
       "                    <td style=\"width: 30%;\">\n",
       "                     <b>Loss: 0.4085</b> &nbsp&nbsp&nbsp 50000 / 50000\n",
       "                    </td>\n",
       "                    <td style=\"width: 70%;\">\n",
       "                        <progress value='50000' max='50000', style='width: 100%'>50000</progress>\n",
       "                    </td>\n",
       "                </tr>\n",
       "            </tbody>\n",
       "        </table>\n",
       "        "
      ],
      "text/plain": [
       "<IPython.core.display.HTML object>"
      ]
     },
     "metadata": {},
     "output_type": "display_data"
    },
    {
     "name": "stdout",
     "output_type": "stream",
     "text": [
      "Training accuracy: 87.14% lr: 0.00013514\t\n",
      "Test accuracy: 71.48%\n",
      "Epoch 58\n"
     ]
    },
    {
     "data": {
      "text/html": [
       "\n",
       "        <table style=\"width: 100%;\">\n",
       "            <tbody>\n",
       "                <tr>\n",
       "                    <td style=\"width: 30%;\">\n",
       "                     <b>Loss: 0.3864</b> &nbsp&nbsp&nbsp 46272 / 50000\n",
       "                    </td>\n",
       "                    <td style=\"width: 70%;\">\n",
       "                        <progress value='46272' max='50000', style='width: 100%'>46272</progress>\n",
       "                    </td>\n",
       "                </tr>\n",
       "            </tbody>\n",
       "        </table>\n",
       "        "
      ],
      "text/plain": [
       "<IPython.core.display.HTML object>"
      ]
     },
     "metadata": {},
     "output_type": "display_data"
    },
    {
     "name": "stdout",
     "output_type": "stream",
     "text": [
      "Training accuracy: 88.23% lr: 0.00012660\t\n",
      "Test accuracy: 71.54%\n",
      "Epoch 60\n"
     ]
    },
    {
     "data": {
      "text/html": [
       "\n",
       "        <table style=\"width: 100%;\">\n",
       "            <tbody>\n",
       "                <tr>\n",
       "                    <td style=\"width: 30%;\">\n",
       "                     <b>Loss: 0.3503</b> &nbsp&nbsp&nbsp 50000 / 50000\n",
       "                    </td>\n",
       "                    <td style=\"width: 70%;\">\n",
       "                        <progress value='50000' max='50000', style='width: 100%'>50000</progress>\n",
       "                    </td>\n",
       "                </tr>\n",
       "            </tbody>\n",
       "        </table>\n",
       "        "
      ],
      "text/plain": [
       "<IPython.core.display.HTML object>"
      ]
     },
     "metadata": {},
     "output_type": "display_data"
    },
    {
     "name": "stdout",
     "output_type": "stream",
     "text": [
      "Training accuracy: 88.64% lr: 0.00012225\t\n",
      "Test accuracy: 72.00%\n",
      "    ==> Best model saved!\n",
      "\n",
      "Epoch 61\n"
     ]
    },
    {
     "data": {
      "text/html": [
       "\n",
       "        <table style=\"width: 100%;\">\n",
       "            <tbody>\n",
       "                <tr>\n",
       "                    <td style=\"width: 30%;\">\n",
       "                     <b>Loss: 0.3384</b> &nbsp&nbsp&nbsp 50000 / 50000\n",
       "                    </td>\n",
       "                    <td style=\"width: 70%;\">\n",
       "                        <progress value='50000' max='50000', style='width: 100%'>50000</progress>\n",
       "                    </td>\n",
       "                </tr>\n",
       "            </tbody>\n",
       "        </table>\n",
       "        "
      ],
      "text/plain": [
       "<IPython.core.display.HTML object>"
      ]
     },
     "metadata": {},
     "output_type": "display_data"
    },
    {
     "name": "stdout",
     "output_type": "stream",
     "text": [
      "Training accuracy: 89.20% lr: 0.00011785\t\n",
      "Test accuracy: 72.26%\n",
      "    ==> Best model saved!\n",
      "\n",
      "Epoch 62\n"
     ]
    },
    {
     "data": {
      "text/html": [
       "\n",
       "        <table style=\"width: 100%;\">\n",
       "            <tbody>\n",
       "                <tr>\n",
       "                    <td style=\"width: 30%;\">\n",
       "                     <b>Loss: 0.3263</b> &nbsp&nbsp&nbsp 50000 / 50000\n",
       "                    </td>\n",
       "                    <td style=\"width: 70%;\">\n",
       "                        <progress value='50000' max='50000', style='width: 100%'>50000</progress>\n",
       "                    </td>\n",
       "                </tr>\n",
       "            </tbody>\n",
       "        </table>\n",
       "        "
      ],
      "text/plain": [
       "<IPython.core.display.HTML object>"
      ]
     },
     "metadata": {},
     "output_type": "display_data"
    },
    {
     "name": "stdout",
     "output_type": "stream",
     "text": [
      "Training accuracy: 89.64% lr: 0.00011342\t\n",
      "Test accuracy: 72.02%\n",
      "Epoch 63\n"
     ]
    },
    {
     "data": {
      "text/html": [
       "\n",
       "        <table style=\"width: 100%;\">\n",
       "            <tbody>\n",
       "                <tr>\n",
       "                    <td style=\"width: 30%;\">\n",
       "                     <b>Loss: 0.3098</b> &nbsp&nbsp&nbsp 50000 / 50000\n",
       "                    </td>\n",
       "                    <td style=\"width: 70%;\">\n",
       "                        <progress value='50000' max='50000', style='width: 100%'>50000</progress>\n",
       "                    </td>\n",
       "                </tr>\n",
       "            </tbody>\n",
       "        </table>\n",
       "        "
      ],
      "text/plain": [
       "<IPython.core.display.HTML object>"
      ]
     },
     "metadata": {},
     "output_type": "display_data"
    },
    {
     "name": "stdout",
     "output_type": "stream",
     "text": [
      "Training accuracy: 90.00% lr: 0.00010896\t\n",
      "Test accuracy: 71.83%\n",
      "Epoch 64\n"
     ]
    },
    {
     "data": {
      "text/html": [
       "\n",
       "        <table style=\"width: 100%;\">\n",
       "            <tbody>\n",
       "                <tr>\n",
       "                    <td style=\"width: 30%;\">\n",
       "                     <b>Loss: 0.2906</b> &nbsp&nbsp&nbsp 50000 / 50000\n",
       "                    </td>\n",
       "                    <td style=\"width: 70%;\">\n",
       "                        <progress value='50000' max='50000', style='width: 100%'>50000</progress>\n",
       "                    </td>\n",
       "                </tr>\n",
       "            </tbody>\n",
       "        </table>\n",
       "        "
      ],
      "text/plain": [
       "<IPython.core.display.HTML object>"
      ]
     },
     "metadata": {},
     "output_type": "display_data"
    },
    {
     "name": "stdout",
     "output_type": "stream",
     "text": [
      "Training accuracy: 90.76% lr: 0.00010449\t\n",
      "Test accuracy: 72.66%\n",
      "    ==> Best model saved!\n",
      "\n",
      "Epoch 65\n"
     ]
    },
    {
     "data": {
      "text/html": [
       "\n",
       "        <table style=\"width: 100%;\">\n",
       "            <tbody>\n",
       "                <tr>\n",
       "                    <td style=\"width: 30%;\">\n",
       "                     <b>Loss: 0.2717</b> &nbsp&nbsp&nbsp 50000 / 50000\n",
       "                    </td>\n",
       "                    <td style=\"width: 70%;\">\n",
       "                        <progress value='50000' max='50000', style='width: 100%'>50000</progress>\n",
       "                    </td>\n",
       "                </tr>\n",
       "            </tbody>\n",
       "        </table>\n",
       "        "
      ],
      "text/plain": [
       "<IPython.core.display.HTML object>"
      ]
     },
     "metadata": {},
     "output_type": "display_data"
    },
    {
     "name": "stdout",
     "output_type": "stream",
     "text": [
      "Training accuracy: 91.36% lr: 0.00010000\t\n",
      "Test accuracy: 72.88%\n",
      "    ==> Best model saved!\n",
      "\n",
      "Epoch 66\n"
     ]
    },
    {
     "data": {
      "text/html": [
       "\n",
       "        <table style=\"width: 100%;\">\n",
       "            <tbody>\n",
       "                <tr>\n",
       "                    <td style=\"width: 30%;\">\n",
       "                     <b>Loss: 0.2642</b> &nbsp&nbsp&nbsp 50000 / 50000\n",
       "                    </td>\n",
       "                    <td style=\"width: 70%;\">\n",
       "                        <progress value='50000' max='50000', style='width: 100%'>50000</progress>\n",
       "                    </td>\n",
       "                </tr>\n",
       "            </tbody>\n",
       "        </table>\n",
       "        "
      ],
      "text/plain": [
       "<IPython.core.display.HTML object>"
      ]
     },
     "metadata": {},
     "output_type": "display_data"
    },
    {
     "name": "stdout",
     "output_type": "stream",
     "text": [
      "Training accuracy: 91.57% lr: 0.00009551\t\n",
      "Test accuracy: 72.80%\n",
      "Epoch 67\n"
     ]
    },
    {
     "data": {
      "text/html": [
       "\n",
       "        <table style=\"width: 100%;\">\n",
       "            <tbody>\n",
       "                <tr>\n",
       "                    <td style=\"width: 30%;\">\n",
       "                     <b>Loss: 0.2406</b> &nbsp&nbsp&nbsp 50000 / 50000\n",
       "                    </td>\n",
       "                    <td style=\"width: 70%;\">\n",
       "                        <progress value='50000' max='50000', style='width: 100%'>50000</progress>\n",
       "                    </td>\n",
       "                </tr>\n",
       "            </tbody>\n",
       "        </table>\n",
       "        "
      ],
      "text/plain": [
       "<IPython.core.display.HTML object>"
      ]
     },
     "metadata": {},
     "output_type": "display_data"
    },
    {
     "name": "stdout",
     "output_type": "stream",
     "text": [
      "Training accuracy: 92.32% lr: 0.00009104\t\n",
      "Test accuracy: 73.01%\n",
      "    ==> Best model saved!\n",
      "\n",
      "Epoch 68\n"
     ]
    },
    {
     "data": {
      "text/html": [
       "\n",
       "        <table style=\"width: 100%;\">\n",
       "            <tbody>\n",
       "                <tr>\n",
       "                    <td style=\"width: 30%;\">\n",
       "                     <b>Loss: 0.2243</b> &nbsp&nbsp&nbsp 50000 / 50000\n",
       "                    </td>\n",
       "                    <td style=\"width: 70%;\">\n",
       "                        <progress value='50000' max='50000', style='width: 100%'>50000</progress>\n",
       "                    </td>\n",
       "                </tr>\n",
       "            </tbody>\n",
       "        </table>\n",
       "        "
      ],
      "text/plain": [
       "<IPython.core.display.HTML object>"
      ]
     },
     "metadata": {},
     "output_type": "display_data"
    },
    {
     "name": "stdout",
     "output_type": "stream",
     "text": [
      "Training accuracy: 92.80% lr: 0.00008658\t\n",
      "Test accuracy: 72.77%\n",
      "Epoch 69\n"
     ]
    },
    {
     "data": {
      "text/html": [
       "\n",
       "        <table style=\"width: 100%;\">\n",
       "            <tbody>\n",
       "                <tr>\n",
       "                    <td style=\"width: 30%;\">\n",
       "                     <b>Loss: 0.2160</b> &nbsp&nbsp&nbsp 50000 / 50000\n",
       "                    </td>\n",
       "                    <td style=\"width: 70%;\">\n",
       "                        <progress value='50000' max='50000', style='width: 100%'>50000</progress>\n",
       "                    </td>\n",
       "                </tr>\n",
       "            </tbody>\n",
       "        </table>\n",
       "        "
      ],
      "text/plain": [
       "<IPython.core.display.HTML object>"
      ]
     },
     "metadata": {},
     "output_type": "display_data"
    },
    {
     "name": "stdout",
     "output_type": "stream",
     "text": [
      "Training accuracy: 93.08% lr: 0.00008214\t\n",
      "Test accuracy: 73.03%\n",
      "    ==> Best model saved!\n",
      "\n",
      "Epoch 70\n"
     ]
    },
    {
     "data": {
      "text/html": [
       "\n",
       "        <table style=\"width: 100%;\">\n",
       "            <tbody>\n",
       "                <tr>\n",
       "                    <td style=\"width: 30%;\">\n",
       "                     <b>Loss: 0.2040</b> &nbsp&nbsp&nbsp 50000 / 50000\n",
       "                    </td>\n",
       "                    <td style=\"width: 70%;\">\n",
       "                        <progress value='50000' max='50000', style='width: 100%'>50000</progress>\n",
       "                    </td>\n",
       "                </tr>\n",
       "            </tbody>\n",
       "        </table>\n",
       "        "
      ],
      "text/plain": [
       "<IPython.core.display.HTML object>"
      ]
     },
     "metadata": {},
     "output_type": "display_data"
    },
    {
     "name": "stdout",
     "output_type": "stream",
     "text": [
      "Training accuracy: 93.49% lr: 0.00007775\t\n",
      "Test accuracy: 73.29%\n",
      "    ==> Best model saved!\n",
      "\n",
      "Epoch 71\n"
     ]
    },
    {
     "data": {
      "text/html": [
       "\n",
       "        <table style=\"width: 100%;\">\n",
       "            <tbody>\n",
       "                <tr>\n",
       "                    <td style=\"width: 30%;\">\n",
       "                     <b>Loss: 0.1870</b> &nbsp&nbsp&nbsp 50000 / 50000\n",
       "                    </td>\n",
       "                    <td style=\"width: 70%;\">\n",
       "                        <progress value='50000' max='50000', style='width: 100%'>50000</progress>\n",
       "                    </td>\n",
       "                </tr>\n",
       "            </tbody>\n",
       "        </table>\n",
       "        "
      ],
      "text/plain": [
       "<IPython.core.display.HTML object>"
      ]
     },
     "metadata": {},
     "output_type": "display_data"
    },
    {
     "name": "stdout",
     "output_type": "stream",
     "text": [
      "Training accuracy: 94.05% lr: 0.00007340\t\n",
      "Test accuracy: 74.08%\n",
      "    ==> Best model saved!\n",
      "\n",
      "Epoch 72\n"
     ]
    },
    {
     "data": {
      "text/html": [
       "\n",
       "        <table style=\"width: 100%;\">\n",
       "            <tbody>\n",
       "                <tr>\n",
       "                    <td style=\"width: 30%;\">\n",
       "                     <b>Loss: 0.1767</b> &nbsp&nbsp&nbsp 50000 / 50000\n",
       "                    </td>\n",
       "                    <td style=\"width: 70%;\">\n",
       "                        <progress value='50000' max='50000', style='width: 100%'>50000</progress>\n",
       "                    </td>\n",
       "                </tr>\n",
       "            </tbody>\n",
       "        </table>\n",
       "        "
      ],
      "text/plain": [
       "<IPython.core.display.HTML object>"
      ]
     },
     "metadata": {},
     "output_type": "display_data"
    },
    {
     "name": "stdout",
     "output_type": "stream",
     "text": [
      "Training accuracy: 94.37% lr: 0.00006910\t\n",
      "Test accuracy: 73.38%\n",
      "Epoch 73\n"
     ]
    },
    {
     "data": {
      "text/html": [
       "\n",
       "        <table style=\"width: 100%;\">\n",
       "            <tbody>\n",
       "                <tr>\n",
       "                    <td style=\"width: 30%;\">\n",
       "                     <b>Loss: 0.1649</b> &nbsp&nbsp&nbsp 50000 / 50000\n",
       "                    </td>\n",
       "                    <td style=\"width: 70%;\">\n",
       "                        <progress value='50000' max='50000', style='width: 100%'>50000</progress>\n",
       "                    </td>\n",
       "                </tr>\n",
       "            </tbody>\n",
       "        </table>\n",
       "        "
      ],
      "text/plain": [
       "<IPython.core.display.HTML object>"
      ]
     },
     "metadata": {},
     "output_type": "display_data"
    },
    {
     "name": "stdout",
     "output_type": "stream",
     "text": [
      "Training accuracy: 94.78% lr: 0.00006486\t\n",
      "Test accuracy: 73.80%\n",
      "Epoch 74\n"
     ]
    },
    {
     "data": {
      "text/html": [
       "\n",
       "        <table style=\"width: 100%;\">\n",
       "            <tbody>\n",
       "                <tr>\n",
       "                    <td style=\"width: 30%;\">\n",
       "                     <b>Loss: 0.1566</b> &nbsp&nbsp&nbsp 50000 / 50000\n",
       "                    </td>\n",
       "                    <td style=\"width: 70%;\">\n",
       "                        <progress value='50000' max='50000', style='width: 100%'>50000</progress>\n",
       "                    </td>\n",
       "                </tr>\n",
       "            </tbody>\n",
       "        </table>\n",
       "        "
      ],
      "text/plain": [
       "<IPython.core.display.HTML object>"
      ]
     },
     "metadata": {},
     "output_type": "display_data"
    },
    {
     "name": "stdout",
     "output_type": "stream",
     "text": [
      "Training accuracy: 95.01% lr: 0.00006070\t\n",
      "Test accuracy: 73.80%\n",
      "Epoch 75\n"
     ]
    },
    {
     "data": {
      "text/html": [
       "\n",
       "        <table style=\"width: 100%;\">\n",
       "            <tbody>\n",
       "                <tr>\n",
       "                    <td style=\"width: 30%;\">\n",
       "                     <b>Loss: 0.1450</b> &nbsp&nbsp&nbsp 50000 / 50000\n",
       "                    </td>\n",
       "                    <td style=\"width: 70%;\">\n",
       "                        <progress value='50000' max='50000', style='width: 100%'>50000</progress>\n",
       "                    </td>\n",
       "                </tr>\n",
       "            </tbody>\n",
       "        </table>\n",
       "        "
      ],
      "text/plain": [
       "<IPython.core.display.HTML object>"
      ]
     },
     "metadata": {},
     "output_type": "display_data"
    },
    {
     "name": "stdout",
     "output_type": "stream",
     "text": [
      "Training accuracy: 95.48% lr: 0.00005661\t\n",
      "Test accuracy: 73.16%\n",
      "Epoch 76\n"
     ]
    },
    {
     "data": {
      "text/html": [
       "\n",
       "        <table style=\"width: 100%;\">\n",
       "            <tbody>\n",
       "                <tr>\n",
       "                    <td style=\"width: 30%;\">\n",
       "                     <b>Loss: 0.1359</b> &nbsp&nbsp&nbsp 50000 / 50000\n",
       "                    </td>\n",
       "                    <td style=\"width: 70%;\">\n",
       "                        <progress value='50000' max='50000', style='width: 100%'>50000</progress>\n",
       "                    </td>\n",
       "                </tr>\n",
       "            </tbody>\n",
       "        </table>\n",
       "        "
      ],
      "text/plain": [
       "<IPython.core.display.HTML object>"
      ]
     },
     "metadata": {},
     "output_type": "display_data"
    },
    {
     "name": "stdout",
     "output_type": "stream",
     "text": [
      "Training accuracy: 95.78% lr: 0.00005261\t\n",
      "Test accuracy: 73.92%\n",
      "Epoch 77\n"
     ]
    },
    {
     "data": {
      "text/html": [
       "\n",
       "        <table style=\"width: 100%;\">\n",
       "            <tbody>\n",
       "                <tr>\n",
       "                    <td style=\"width: 30%;\">\n",
       "                     <b>Loss: 0.1262</b> &nbsp&nbsp&nbsp 50000 / 50000\n",
       "                    </td>\n",
       "                    <td style=\"width: 70%;\">\n",
       "                        <progress value='50000' max='50000', style='width: 100%'>50000</progress>\n",
       "                    </td>\n",
       "                </tr>\n",
       "            </tbody>\n",
       "        </table>\n",
       "        "
      ],
      "text/plain": [
       "<IPython.core.display.HTML object>"
      ]
     },
     "metadata": {},
     "output_type": "display_data"
    },
    {
     "name": "stdout",
     "output_type": "stream",
     "text": [
      "Training accuracy: 96.05% lr: 0.00004871\t\n",
      "Test accuracy: 73.43%\n",
      "Epoch 78\n"
     ]
    },
    {
     "data": {
      "text/html": [
       "\n",
       "        <table style=\"width: 100%;\">\n",
       "            <tbody>\n",
       "                <tr>\n",
       "                    <td style=\"width: 30%;\">\n",
       "                     <b>Loss: 0.1181</b> &nbsp&nbsp&nbsp 50000 / 50000\n",
       "                    </td>\n",
       "                    <td style=\"width: 70%;\">\n",
       "                        <progress value='50000' max='50000', style='width: 100%'>50000</progress>\n",
       "                    </td>\n",
       "                </tr>\n",
       "            </tbody>\n",
       "        </table>\n",
       "        "
      ],
      "text/plain": [
       "<IPython.core.display.HTML object>"
      ]
     },
     "metadata": {},
     "output_type": "display_data"
    },
    {
     "name": "stdout",
     "output_type": "stream",
     "text": [
      "Training accuracy: 96.32% lr: 0.00004491\t\n",
      "Test accuracy: 74.02%\n",
      "Epoch 79\n"
     ]
    },
    {
     "data": {
      "text/html": [
       "\n",
       "        <table style=\"width: 100%;\">\n",
       "            <tbody>\n",
       "                <tr>\n",
       "                    <td style=\"width: 30%;\">\n",
       "                     <b>Loss: 0.1073</b> &nbsp&nbsp&nbsp 50000 / 50000\n",
       "                    </td>\n",
       "                    <td style=\"width: 70%;\">\n",
       "                        <progress value='50000' max='50000', style='width: 100%'>50000</progress>\n",
       "                    </td>\n",
       "                </tr>\n",
       "            </tbody>\n",
       "        </table>\n",
       "        "
      ],
      "text/plain": [
       "<IPython.core.display.HTML object>"
      ]
     },
     "metadata": {},
     "output_type": "display_data"
    },
    {
     "name": "stdout",
     "output_type": "stream",
     "text": [
      "Training accuracy: 96.67% lr: 0.00004122\t\n",
      "Test accuracy: 74.32%\n",
      "    ==> Best model saved!\n",
      "\n",
      "Epoch 80\n"
     ]
    },
    {
     "data": {
      "text/html": [
       "\n",
       "        <table style=\"width: 100%;\">\n",
       "            <tbody>\n",
       "                <tr>\n",
       "                    <td style=\"width: 30%;\">\n",
       "                     <b>Loss: 0.1019</b> &nbsp&nbsp&nbsp 50000 / 50000\n",
       "                    </td>\n",
       "                    <td style=\"width: 70%;\">\n",
       "                        <progress value='50000' max='50000', style='width: 100%'>50000</progress>\n",
       "                    </td>\n",
       "                </tr>\n",
       "            </tbody>\n",
       "        </table>\n",
       "        "
      ],
      "text/plain": [
       "<IPython.core.display.HTML object>"
      ]
     },
     "metadata": {},
     "output_type": "display_data"
    },
    {
     "name": "stdout",
     "output_type": "stream",
     "text": [
      "Training accuracy: 96.78% lr: 0.00003765\t\n",
      "Test accuracy: 74.46%\n",
      "    ==> Best model saved!\n",
      "\n",
      "Epoch 81\n"
     ]
    },
    {
     "data": {
      "text/html": [
       "\n",
       "        <table style=\"width: 100%;\">\n",
       "            <tbody>\n",
       "                <tr>\n",
       "                    <td style=\"width: 30%;\">\n",
       "                     <b>Loss: 0.0971</b> &nbsp&nbsp&nbsp 50000 / 50000\n",
       "                    </td>\n",
       "                    <td style=\"width: 70%;\">\n",
       "                        <progress value='50000' max='50000', style='width: 100%'>50000</progress>\n",
       "                    </td>\n",
       "                </tr>\n",
       "            </tbody>\n",
       "        </table>\n",
       "        "
      ],
      "text/plain": [
       "<IPython.core.display.HTML object>"
      ]
     },
     "metadata": {},
     "output_type": "display_data"
    },
    {
     "name": "stdout",
     "output_type": "stream",
     "text": [
      "Training accuracy: 96.99% lr: 0.00003421\t\n",
      "Test accuracy: 74.74%\n",
      "    ==> Best model saved!\n",
      "\n",
      "Epoch 82\n"
     ]
    },
    {
     "data": {
      "text/html": [
       "\n",
       "        <table style=\"width: 100%;\">\n",
       "            <tbody>\n",
       "                <tr>\n",
       "                    <td style=\"width: 30%;\">\n",
       "                     <b>Loss: 0.0808</b> &nbsp&nbsp&nbsp 24112 / 50000\n",
       "                    </td>\n",
       "                    <td style=\"width: 70%;\">\n",
       "                        <progress value='24112' max='50000', style='width: 100%'>24112</progress>\n",
       "                    </td>\n",
       "                </tr>\n",
       "            </tbody>\n",
       "        </table>\n",
       "        "
      ],
      "text/plain": [
       "<IPython.core.display.HTML object>"
      ]
     },
     "metadata": {},
     "output_type": "display_data"
    },
    {
     "name": "stderr",
     "output_type": "stream",
     "text": [
      "IOPub message rate exceeded.\n",
      "The notebook server will temporarily stop sending output\n",
      "to the client in order to avoid crashing it.\n",
      "To change this limit, set the config variable\n",
      "`--NotebookApp.iopub_msg_rate_limit`.\n",
      "\n",
      "Current values:\n",
      "NotebookApp.iopub_msg_rate_limit=1000.0 (msgs/sec)\n",
      "NotebookApp.rate_limit_window=3.0 (secs)\n",
      "\n"
     ]
    },
    {
     "name": "stdout",
     "output_type": "stream",
     "text": [
      "Training accuracy: 97.51% lr: 0.00002772\t\n",
      "Test accuracy: 74.82%\n",
      "    ==> Best model saved!\n",
      "\n",
      "Epoch 84\n"
     ]
    },
    {
     "data": {
      "text/html": [
       "\n",
       "        <table style=\"width: 100%;\">\n",
       "            <tbody>\n",
       "                <tr>\n",
       "                    <td style=\"width: 30%;\">\n",
       "                     <b>Loss: 0.0787</b> &nbsp&nbsp&nbsp 50000 / 50000\n",
       "                    </td>\n",
       "                    <td style=\"width: 70%;\">\n",
       "                        <progress value='50000' max='50000', style='width: 100%'>50000</progress>\n",
       "                    </td>\n",
       "                </tr>\n",
       "            </tbody>\n",
       "        </table>\n",
       "        "
      ],
      "text/plain": [
       "<IPython.core.display.HTML object>"
      ]
     },
     "metadata": {},
     "output_type": "display_data"
    },
    {
     "name": "stdout",
     "output_type": "stream",
     "text": [
      "Training accuracy: 97.57% lr: 0.00002469\t\n",
      "Test accuracy: 74.80%\n",
      "Epoch 85\n"
     ]
    },
    {
     "data": {
      "text/html": [
       "\n",
       "        <table style=\"width: 100%;\">\n",
       "            <tbody>\n",
       "                <tr>\n",
       "                    <td style=\"width: 30%;\">\n",
       "                     <b>Loss: 0.0680</b> &nbsp&nbsp&nbsp 50000 / 50000\n",
       "                    </td>\n",
       "                    <td style=\"width: 70%;\">\n",
       "                        <progress value='50000' max='50000', style='width: 100%'>50000</progress>\n",
       "                    </td>\n",
       "                </tr>\n",
       "            </tbody>\n",
       "        </table>\n",
       "        "
      ],
      "text/plain": [
       "<IPython.core.display.HTML object>"
      ]
     },
     "metadata": {},
     "output_type": "display_data"
    },
    {
     "name": "stdout",
     "output_type": "stream",
     "text": [
      "Training accuracy: 97.91% lr: 0.00002182\t\n",
      "Test accuracy: 74.41%\n",
      "Epoch 86\n"
     ]
    },
    {
     "data": {
      "text/html": [
       "\n",
       "        <table style=\"width: 100%;\">\n",
       "            <tbody>\n",
       "                <tr>\n",
       "                    <td style=\"width: 30%;\">\n",
       "                     <b>Loss: 0.0648</b> &nbsp&nbsp&nbsp 50000 / 50000\n",
       "                    </td>\n",
       "                    <td style=\"width: 70%;\">\n",
       "                        <progress value='50000' max='50000', style='width: 100%'>50000</progress>\n",
       "                    </td>\n",
       "                </tr>\n",
       "            </tbody>\n",
       "        </table>\n",
       "        "
      ],
      "text/plain": [
       "<IPython.core.display.HTML object>"
      ]
     },
     "metadata": {},
     "output_type": "display_data"
    },
    {
     "name": "stdout",
     "output_type": "stream",
     "text": [
      "Training accuracy: 98.06% lr: 0.00001910\t\n",
      "Test accuracy: 75.02%\n",
      "    ==> Best model saved!\n",
      "\n",
      "Epoch 87\n"
     ]
    },
    {
     "data": {
      "text/html": [
       "\n",
       "        <table style=\"width: 100%;\">\n",
       "            <tbody>\n",
       "                <tr>\n",
       "                    <td style=\"width: 30%;\">\n",
       "                     <b>Loss: 0.0615</b> &nbsp&nbsp&nbsp 50000 / 50000\n",
       "                    </td>\n",
       "                    <td style=\"width: 70%;\">\n",
       "                        <progress value='50000' max='50000', style='width: 100%'>50000</progress>\n",
       "                    </td>\n",
       "                </tr>\n",
       "            </tbody>\n",
       "        </table>\n",
       "        "
      ],
      "text/plain": [
       "<IPython.core.display.HTML object>"
      ]
     },
     "metadata": {},
     "output_type": "display_data"
    },
    {
     "name": "stdout",
     "output_type": "stream",
     "text": [
      "Training accuracy: 98.21% lr: 0.00001654\t\n",
      "Test accuracy: 74.88%\n",
      "Epoch 88\n"
     ]
    },
    {
     "data": {
      "text/html": [
       "\n",
       "        <table style=\"width: 100%;\">\n",
       "            <tbody>\n",
       "                <tr>\n",
       "                    <td style=\"width: 30%;\">\n",
       "                     <b>Loss: 0.0587</b> &nbsp&nbsp&nbsp 50000 / 50000\n",
       "                    </td>\n",
       "                    <td style=\"width: 70%;\">\n",
       "                        <progress value='50000' max='50000', style='width: 100%'>50000</progress>\n",
       "                    </td>\n",
       "                </tr>\n",
       "            </tbody>\n",
       "        </table>\n",
       "        "
      ],
      "text/plain": [
       "<IPython.core.display.HTML object>"
      ]
     },
     "metadata": {},
     "output_type": "display_data"
    },
    {
     "name": "stdout",
     "output_type": "stream",
     "text": [
      "Training accuracy: 98.28% lr: 0.00001416\t\n",
      "Test accuracy: 75.18%\n",
      "    ==> Best model saved!\n",
      "\n",
      "Epoch 89\n"
     ]
    },
    {
     "data": {
      "text/html": [
       "\n",
       "        <table style=\"width: 100%;\">\n",
       "            <tbody>\n",
       "                <tr>\n",
       "                    <td style=\"width: 30%;\">\n",
       "                     <b>Loss: 0.0530</b> &nbsp&nbsp&nbsp 50000 / 50000\n",
       "                    </td>\n",
       "                    <td style=\"width: 70%;\">\n",
       "                        <progress value='50000' max='50000', style='width: 100%'>50000</progress>\n",
       "                    </td>\n",
       "                </tr>\n",
       "            </tbody>\n",
       "        </table>\n",
       "        "
      ],
      "text/plain": [
       "<IPython.core.display.HTML object>"
      ]
     },
     "metadata": {},
     "output_type": "display_data"
    },
    {
     "name": "stdout",
     "output_type": "stream",
     "text": [
      "Training accuracy: 98.44% lr: 0.00001194\t\n",
      "Test accuracy: 75.75%\n",
      "    ==> Best model saved!\n",
      "\n",
      "Epoch 90\n"
     ]
    },
    {
     "data": {
      "text/html": [
       "\n",
       "        <table style=\"width: 100%;\">\n",
       "            <tbody>\n",
       "                <tr>\n",
       "                    <td style=\"width: 30%;\">\n",
       "                     <b>Loss: 0.0493</b> &nbsp&nbsp&nbsp 50000 / 50000\n",
       "                    </td>\n",
       "                    <td style=\"width: 70%;\">\n",
       "                        <progress value='50000' max='50000', style='width: 100%'>50000</progress>\n",
       "                    </td>\n",
       "                </tr>\n",
       "            </tbody>\n",
       "        </table>\n",
       "        "
      ],
      "text/plain": [
       "<IPython.core.display.HTML object>"
      ]
     },
     "metadata": {},
     "output_type": "display_data"
    },
    {
     "name": "stdout",
     "output_type": "stream",
     "text": [
      "Training accuracy: 98.61% lr: 0.00000990\t\n",
      "Test accuracy: 75.51%\n",
      "Epoch 91\n"
     ]
    },
    {
     "data": {
      "text/html": [
       "\n",
       "        <table style=\"width: 100%;\">\n",
       "            <tbody>\n",
       "                <tr>\n",
       "                    <td style=\"width: 30%;\">\n",
       "                     <b>Loss: 0.0485</b> &nbsp&nbsp&nbsp 50000 / 50000\n",
       "                    </td>\n",
       "                    <td style=\"width: 70%;\">\n",
       "                        <progress value='50000' max='50000', style='width: 100%'>50000</progress>\n",
       "                    </td>\n",
       "                </tr>\n",
       "            </tbody>\n",
       "        </table>\n",
       "        "
      ],
      "text/plain": [
       "<IPython.core.display.HTML object>"
      ]
     },
     "metadata": {},
     "output_type": "display_data"
    },
    {
     "name": "stdout",
     "output_type": "stream",
     "text": [
      "Training accuracy: 98.56% lr: 0.00000805\t\n",
      "Test accuracy: 75.68%\n",
      "Epoch 92\n"
     ]
    },
    {
     "data": {
      "text/html": [
       "\n",
       "        <table style=\"width: 100%;\">\n",
       "            <tbody>\n",
       "                <tr>\n",
       "                    <td style=\"width: 30%;\">\n",
       "                     <b>Loss: 0.0440</b> &nbsp&nbsp&nbsp 50000 / 50000\n",
       "                    </td>\n",
       "                    <td style=\"width: 70%;\">\n",
       "                        <progress value='50000' max='50000', style='width: 100%'>50000</progress>\n",
       "                    </td>\n",
       "                </tr>\n",
       "            </tbody>\n",
       "        </table>\n",
       "        "
      ],
      "text/plain": [
       "<IPython.core.display.HTML object>"
      ]
     },
     "metadata": {},
     "output_type": "display_data"
    },
    {
     "name": "stdout",
     "output_type": "stream",
     "text": [
      "Training accuracy: 98.77% lr: 0.00000805\t\n",
      "Test accuracy: 75.58%\n",
      "Epoch 93\n"
     ]
    },
    {
     "data": {
      "text/html": [
       "\n",
       "        <table style=\"width: 100%;\">\n",
       "            <tbody>\n",
       "                <tr>\n",
       "                    <td style=\"width: 30%;\">\n",
       "                     <b>Loss: 0.0448</b> &nbsp&nbsp&nbsp 50000 / 50000\n",
       "                    </td>\n",
       "                    <td style=\"width: 70%;\">\n",
       "                        <progress value='50000' max='50000', style='width: 100%'>50000</progress>\n",
       "                    </td>\n",
       "                </tr>\n",
       "            </tbody>\n",
       "        </table>\n",
       "        "
      ],
      "text/plain": [
       "<IPython.core.display.HTML object>"
      ]
     },
     "metadata": {},
     "output_type": "display_data"
    },
    {
     "name": "stdout",
     "output_type": "stream",
     "text": [
      "Training accuracy: 98.73% lr: 0.00000805\t\n",
      "Test accuracy: 75.56%\n",
      "Epoch 94\n"
     ]
    },
    {
     "data": {
      "text/html": [
       "\n",
       "        <table style=\"width: 100%;\">\n",
       "            <tbody>\n",
       "                <tr>\n",
       "                    <td style=\"width: 30%;\">\n",
       "                     <b>Loss: 0.0440</b> &nbsp&nbsp&nbsp 50000 / 50000\n",
       "                    </td>\n",
       "                    <td style=\"width: 70%;\">\n",
       "                        <progress value='50000' max='50000', style='width: 100%'>50000</progress>\n",
       "                    </td>\n",
       "                </tr>\n",
       "            </tbody>\n",
       "        </table>\n",
       "        "
      ],
      "text/plain": [
       "<IPython.core.display.HTML object>"
      ]
     },
     "metadata": {},
     "output_type": "display_data"
    },
    {
     "name": "stdout",
     "output_type": "stream",
     "text": [
      "Training accuracy: 98.75% lr: 0.00000805\t\n",
      "Test accuracy: 75.61%\n",
      "Epoch 95\n"
     ]
    },
    {
     "data": {
      "text/html": [
       "\n",
       "        <table style=\"width: 100%;\">\n",
       "            <tbody>\n",
       "                <tr>\n",
       "                    <td style=\"width: 30%;\">\n",
       "                     <b>Loss: 0.0419</b> &nbsp&nbsp&nbsp 50000 / 50000\n",
       "                    </td>\n",
       "                    <td style=\"width: 70%;\">\n",
       "                        <progress value='50000' max='50000', style='width: 100%'>50000</progress>\n",
       "                    </td>\n",
       "                </tr>\n",
       "            </tbody>\n",
       "        </table>\n",
       "        "
      ],
      "text/plain": [
       "<IPython.core.display.HTML object>"
      ]
     },
     "metadata": {},
     "output_type": "display_data"
    },
    {
     "name": "stdout",
     "output_type": "stream",
     "text": [
      "Training accuracy: 98.77% lr: 0.00000805\t\n",
      "Test accuracy: 75.77%\n",
      "    ==> Best model saved!\n",
      "\n",
      "Epoch 96\n"
     ]
    },
    {
     "data": {
      "text/html": [
       "\n",
       "        <table style=\"width: 100%;\">\n",
       "            <tbody>\n",
       "                <tr>\n",
       "                    <td style=\"width: 30%;\">\n",
       "                     <b>Loss: 0.0420</b> &nbsp&nbsp&nbsp 50000 / 50000\n",
       "                    </td>\n",
       "                    <td style=\"width: 70%;\">\n",
       "                        <progress value='50000' max='50000', style='width: 100%'>50000</progress>\n",
       "                    </td>\n",
       "                </tr>\n",
       "            </tbody>\n",
       "        </table>\n",
       "        "
      ],
      "text/plain": [
       "<IPython.core.display.HTML object>"
      ]
     },
     "metadata": {},
     "output_type": "display_data"
    },
    {
     "name": "stdout",
     "output_type": "stream",
     "text": [
      "Training accuracy: 98.80% lr: 0.00000805\t\n",
      "Test accuracy: 75.65%\n",
      "Epoch 97\n"
     ]
    },
    {
     "data": {
      "text/html": [
       "\n",
       "        <table style=\"width: 100%;\">\n",
       "            <tbody>\n",
       "                <tr>\n",
       "                    <td style=\"width: 30%;\">\n",
       "                     <b>Loss: 0.0437</b> &nbsp&nbsp&nbsp 50000 / 50000\n",
       "                    </td>\n",
       "                    <td style=\"width: 70%;\">\n",
       "                        <progress value='50000' max='50000', style='width: 100%'>50000</progress>\n",
       "                    </td>\n",
       "                </tr>\n",
       "            </tbody>\n",
       "        </table>\n",
       "        "
      ],
      "text/plain": [
       "<IPython.core.display.HTML object>"
      ]
     },
     "metadata": {},
     "output_type": "display_data"
    },
    {
     "name": "stdout",
     "output_type": "stream",
     "text": [
      "Training accuracy: 98.72% lr: 0.00000638\t\n",
      "Test accuracy: 75.57%\n",
      "Epoch 98\n"
     ]
    },
    {
     "data": {
      "text/html": [
       "\n",
       "        <table style=\"width: 100%;\">\n",
       "            <tbody>\n",
       "                <tr>\n",
       "                    <td style=\"width: 30%;\">\n",
       "                     <b>Loss: 0.0385</b> &nbsp&nbsp&nbsp 50000 / 50000\n",
       "                    </td>\n",
       "                    <td style=\"width: 70%;\">\n",
       "                        <progress value='50000' max='50000', style='width: 100%'>50000</progress>\n",
       "                    </td>\n",
       "                </tr>\n",
       "            </tbody>\n",
       "        </table>\n",
       "        "
      ],
      "text/plain": [
       "<IPython.core.display.HTML object>"
      ]
     },
     "metadata": {},
     "output_type": "display_data"
    },
    {
     "name": "stdout",
     "output_type": "stream",
     "text": [
      "Training accuracy: 98.94% lr: 0.00000489\t\n",
      "Test accuracy: 75.87%\n",
      "    ==> Best model saved!\n",
      "\n",
      "Epoch 99\n"
     ]
    },
    {
     "data": {
      "text/html": [
       "\n",
       "        <table style=\"width: 100%;\">\n",
       "            <tbody>\n",
       "                <tr>\n",
       "                    <td style=\"width: 30%;\">\n",
       "                     <b>Loss: 0.0372</b> &nbsp&nbsp&nbsp 50000 / 50000\n",
       "                    </td>\n",
       "                    <td style=\"width: 70%;\">\n",
       "                        <progress value='50000' max='50000', style='width: 100%'>50000</progress>\n",
       "                    </td>\n",
       "                </tr>\n",
       "            </tbody>\n",
       "        </table>\n",
       "        "
      ],
      "text/plain": [
       "<IPython.core.display.HTML object>"
      ]
     },
     "metadata": {},
     "output_type": "display_data"
    },
    {
     "name": "stdout",
     "output_type": "stream",
     "text": [
      "Training accuracy: 98.96% lr: 0.00000360\t\n",
      "Test accuracy: 75.76%\n",
      "Epoch 100\n"
     ]
    },
    {
     "data": {
      "text/html": [
       "\n",
       "        <table style=\"width: 100%;\">\n",
       "            <tbody>\n",
       "                <tr>\n",
       "                    <td style=\"width: 30%;\">\n",
       "                     <b>Loss: 0.0348</b> &nbsp&nbsp&nbsp 50000 / 50000\n",
       "                    </td>\n",
       "                    <td style=\"width: 70%;\">\n",
       "                        <progress value='50000' max='50000', style='width: 100%'>50000</progress>\n",
       "                    </td>\n",
       "                </tr>\n",
       "            </tbody>\n",
       "        </table>\n",
       "        "
      ],
      "text/plain": [
       "<IPython.core.display.HTML object>"
      ]
     },
     "metadata": {},
     "output_type": "display_data"
    },
    {
     "name": "stdout",
     "output_type": "stream",
     "text": [
      "Training accuracy: 99.02% lr: 0.00000251\t\n",
      "Test accuracy: 75.98%\n",
      "    ==> Best model saved!\n",
      "\n",
      "Epoch 101\n"
     ]
    },
    {
     "data": {
      "text/html": [
       "\n",
       "        <table style=\"width: 100%;\">\n",
       "            <tbody>\n",
       "                <tr>\n",
       "                    <td style=\"width: 30%;\">\n",
       "                     <b>Loss: 0.0350</b> &nbsp&nbsp&nbsp 50000 / 50000\n",
       "                    </td>\n",
       "                    <td style=\"width: 70%;\">\n",
       "                        <progress value='50000' max='50000', style='width: 100%'>50000</progress>\n",
       "                    </td>\n",
       "                </tr>\n",
       "            </tbody>\n",
       "        </table>\n",
       "        "
      ],
      "text/plain": [
       "<IPython.core.display.HTML object>"
      ]
     },
     "metadata": {},
     "output_type": "display_data"
    },
    {
     "name": "stdout",
     "output_type": "stream",
     "text": [
      "Training accuracy: 99.06% lr: 0.00000161\t\n",
      "Test accuracy: 75.87%\n",
      "Epoch 102\n"
     ]
    },
    {
     "data": {
      "text/html": [
       "\n",
       "        <table style=\"width: 100%;\">\n",
       "            <tbody>\n",
       "                <tr>\n",
       "                    <td style=\"width: 30%;\">\n",
       "                     <b>Loss: 0.0358</b> &nbsp&nbsp&nbsp 50000 / 50000\n",
       "                    </td>\n",
       "                    <td style=\"width: 70%;\">\n",
       "                        <progress value='50000' max='50000', style='width: 100%'>50000</progress>\n",
       "                    </td>\n",
       "                </tr>\n",
       "            </tbody>\n",
       "        </table>\n",
       "        "
      ],
      "text/plain": [
       "<IPython.core.display.HTML object>"
      ]
     },
     "metadata": {},
     "output_type": "display_data"
    },
    {
     "name": "stdout",
     "output_type": "stream",
     "text": [
      "Training accuracy: 99.00% lr: 0.00000091\t\n",
      "Test accuracy: 75.91%\n",
      "Epoch 103\n"
     ]
    },
    {
     "data": {
      "text/html": [
       "\n",
       "        <table style=\"width: 100%;\">\n",
       "            <tbody>\n",
       "                <tr>\n",
       "                    <td style=\"width: 30%;\">\n",
       "                     <b>Loss: 0.0357</b> &nbsp&nbsp&nbsp 50000 / 50000\n",
       "                    </td>\n",
       "                    <td style=\"width: 70%;\">\n",
       "                        <progress value='50000' max='50000', style='width: 100%'>50000</progress>\n",
       "                    </td>\n",
       "                </tr>\n",
       "            </tbody>\n",
       "        </table>\n",
       "        "
      ],
      "text/plain": [
       "<IPython.core.display.HTML object>"
      ]
     },
     "metadata": {},
     "output_type": "display_data"
    },
    {
     "name": "stdout",
     "output_type": "stream",
     "text": [
      "Training accuracy: 98.99% lr: 0.00000040\t\n",
      "Test accuracy: 76.02%\n",
      "    ==> Best model saved!\n",
      "\n",
      "Epoch 104\n"
     ]
    },
    {
     "data": {
      "text/html": [
       "\n",
       "        <table style=\"width: 100%;\">\n",
       "            <tbody>\n",
       "                <tr>\n",
       "                    <td style=\"width: 30%;\">\n",
       "                     <b>Loss: 0.0338</b> &nbsp&nbsp&nbsp 50000 / 50000\n",
       "                    </td>\n",
       "                    <td style=\"width: 70%;\">\n",
       "                        <progress value='50000' max='50000', style='width: 100%'>50000</progress>\n",
       "                    </td>\n",
       "                </tr>\n",
       "            </tbody>\n",
       "        </table>\n",
       "        "
      ],
      "text/plain": [
       "<IPython.core.display.HTML object>"
      ]
     },
     "metadata": {},
     "output_type": "display_data"
    },
    {
     "name": "stdout",
     "output_type": "stream",
     "text": [
      "Training accuracy: 99.08% lr: 0.00000010\t\n",
      "Test accuracy: 75.91%\n",
      "Epoch 105\n"
     ]
    },
    {
     "data": {
      "text/html": [
       "\n",
       "        <table style=\"width: 100%;\">\n",
       "            <tbody>\n",
       "                <tr>\n",
       "                    <td style=\"width: 30%;\">\n",
       "                     <b>Loss: 0.0350</b> &nbsp&nbsp&nbsp 50000 / 50000\n",
       "                    </td>\n",
       "                    <td style=\"width: 70%;\">\n",
       "                        <progress value='50000' max='50000', style='width: 100%'>50000</progress>\n",
       "                    </td>\n",
       "                </tr>\n",
       "            </tbody>\n",
       "        </table>\n",
       "        "
      ],
      "text/plain": [
       "<IPython.core.display.HTML object>"
      ]
     },
     "metadata": {},
     "output_type": "display_data"
    },
    {
     "name": "stdout",
     "output_type": "stream",
     "text": [
      "Training accuracy: 99.05% lr: 0.00000000\t\n",
      "Test accuracy: 75.85%\n"
     ]
    }
   ],
   "source": [
    "#@title\n",
    "train_losses, test_losses, y_pred = train(optimizer, model, num_epochs=num_epochs)"
   ]
  },
  {
   "cell_type": "markdown",
   "metadata": {
    "id": "c-qm58sSRw0L"
   },
   "source": [
    "### Make a CSV for submission\n",
    "---"
   ]
  },
  {
   "cell_type": "code",
   "execution_count": 16,
   "metadata": {
    "id": "PyUg1f9tK-jc"
   },
   "outputs": [
    {
     "data": {
      "text/plain": [
       "SimpleCNN(\n",
       "  (conv1): Sequential(\n",
       "    (0): Conv2d(3, 64, kernel_size=(3, 3), stride=(1, 1), padding=(1, 1), bias=False)\n",
       "    (1): BatchNorm2d(64, eps=1e-05, momentum=0.1, affine=True, track_running_stats=True)\n",
       "    (2): ReLU(inplace=True)\n",
       "  )\n",
       "  (conv2_x): Sequential(\n",
       "    (0): basic_block(\n",
       "      (residual_function): Sequential(\n",
       "        (0): Conv2d(64, 64, kernel_size=(3, 3), stride=(1, 1), padding=(1, 1), bias=False)\n",
       "        (1): BatchNorm2d(64, eps=1e-05, momentum=0.1, affine=True, track_running_stats=True)\n",
       "        (2): ReLU(inplace=True)\n",
       "        (3): Conv2d(64, 64, kernel_size=(3, 3), stride=(1, 1), padding=(1, 1), bias=False)\n",
       "        (4): BatchNorm2d(64, eps=1e-05, momentum=0.1, affine=True, track_running_stats=True)\n",
       "      )\n",
       "      (shortcut): Sequential()\n",
       "    )\n",
       "    (1): basic_block(\n",
       "      (residual_function): Sequential(\n",
       "        (0): Conv2d(64, 64, kernel_size=(3, 3), stride=(1, 1), padding=(1, 1), bias=False)\n",
       "        (1): BatchNorm2d(64, eps=1e-05, momentum=0.1, affine=True, track_running_stats=True)\n",
       "        (2): ReLU(inplace=True)\n",
       "        (3): Conv2d(64, 64, kernel_size=(3, 3), stride=(1, 1), padding=(1, 1), bias=False)\n",
       "        (4): BatchNorm2d(64, eps=1e-05, momentum=0.1, affine=True, track_running_stats=True)\n",
       "      )\n",
       "      (shortcut): Sequential()\n",
       "    )\n",
       "  )\n",
       "  (conv3_x): Sequential(\n",
       "    (0): basic_block(\n",
       "      (residual_function): Sequential(\n",
       "        (0): Conv2d(64, 128, kernel_size=(3, 3), stride=(2, 2), padding=(1, 1), bias=False)\n",
       "        (1): BatchNorm2d(128, eps=1e-05, momentum=0.1, affine=True, track_running_stats=True)\n",
       "        (2): ReLU(inplace=True)\n",
       "        (3): Conv2d(128, 128, kernel_size=(3, 3), stride=(1, 1), padding=(1, 1), bias=False)\n",
       "        (4): BatchNorm2d(128, eps=1e-05, momentum=0.1, affine=True, track_running_stats=True)\n",
       "      )\n",
       "      (shortcut): Sequential(\n",
       "        (0): Conv2d(64, 128, kernel_size=(1, 1), stride=(2, 2), bias=False)\n",
       "        (1): BatchNorm2d(128, eps=1e-05, momentum=0.1, affine=True, track_running_stats=True)\n",
       "      )\n",
       "    )\n",
       "    (1): basic_block(\n",
       "      (residual_function): Sequential(\n",
       "        (0): Conv2d(128, 128, kernel_size=(3, 3), stride=(1, 1), padding=(1, 1), bias=False)\n",
       "        (1): BatchNorm2d(128, eps=1e-05, momentum=0.1, affine=True, track_running_stats=True)\n",
       "        (2): ReLU(inplace=True)\n",
       "        (3): Conv2d(128, 128, kernel_size=(3, 3), stride=(1, 1), padding=(1, 1), bias=False)\n",
       "        (4): BatchNorm2d(128, eps=1e-05, momentum=0.1, affine=True, track_running_stats=True)\n",
       "      )\n",
       "      (shortcut): Sequential()\n",
       "    )\n",
       "    (2): basic_block(\n",
       "      (residual_function): Sequential(\n",
       "        (0): Conv2d(128, 128, kernel_size=(3, 3), stride=(1, 1), padding=(1, 1), bias=False)\n",
       "        (1): BatchNorm2d(128, eps=1e-05, momentum=0.1, affine=True, track_running_stats=True)\n",
       "        (2): ReLU(inplace=True)\n",
       "        (3): Conv2d(128, 128, kernel_size=(3, 3), stride=(1, 1), padding=(1, 1), bias=False)\n",
       "        (4): BatchNorm2d(128, eps=1e-05, momentum=0.1, affine=True, track_running_stats=True)\n",
       "      )\n",
       "      (shortcut): Sequential()\n",
       "    )\n",
       "  )\n",
       "  (conv4_x): Sequential(\n",
       "    (0): basic_block(\n",
       "      (residual_function): Sequential(\n",
       "        (0): Conv2d(128, 256, kernel_size=(3, 3), stride=(2, 2), padding=(1, 1), bias=False)\n",
       "        (1): BatchNorm2d(256, eps=1e-05, momentum=0.1, affine=True, track_running_stats=True)\n",
       "        (2): ReLU(inplace=True)\n",
       "        (3): Conv2d(256, 256, kernel_size=(3, 3), stride=(1, 1), padding=(1, 1), bias=False)\n",
       "        (4): BatchNorm2d(256, eps=1e-05, momentum=0.1, affine=True, track_running_stats=True)\n",
       "      )\n",
       "      (shortcut): Sequential(\n",
       "        (0): Conv2d(128, 256, kernel_size=(1, 1), stride=(2, 2), bias=False)\n",
       "        (1): BatchNorm2d(256, eps=1e-05, momentum=0.1, affine=True, track_running_stats=True)\n",
       "      )\n",
       "    )\n",
       "    (1): basic_block(\n",
       "      (residual_function): Sequential(\n",
       "        (0): Conv2d(256, 256, kernel_size=(3, 3), stride=(1, 1), padding=(1, 1), bias=False)\n",
       "        (1): BatchNorm2d(256, eps=1e-05, momentum=0.1, affine=True, track_running_stats=True)\n",
       "        (2): ReLU(inplace=True)\n",
       "        (3): Conv2d(256, 256, kernel_size=(3, 3), stride=(1, 1), padding=(1, 1), bias=False)\n",
       "        (4): BatchNorm2d(256, eps=1e-05, momentum=0.1, affine=True, track_running_stats=True)\n",
       "      )\n",
       "      (shortcut): Sequential()\n",
       "    )\n",
       "    (2): basic_block(\n",
       "      (residual_function): Sequential(\n",
       "        (0): Conv2d(256, 256, kernel_size=(3, 3), stride=(1, 1), padding=(1, 1), bias=False)\n",
       "        (1): BatchNorm2d(256, eps=1e-05, momentum=0.1, affine=True, track_running_stats=True)\n",
       "        (2): ReLU(inplace=True)\n",
       "        (3): Conv2d(256, 256, kernel_size=(3, 3), stride=(1, 1), padding=(1, 1), bias=False)\n",
       "        (4): BatchNorm2d(256, eps=1e-05, momentum=0.1, affine=True, track_running_stats=True)\n",
       "      )\n",
       "      (shortcut): Sequential()\n",
       "    )\n",
       "  )\n",
       "  (conv5_x): Sequential(\n",
       "    (0): basic_block(\n",
       "      (residual_function): Sequential(\n",
       "        (0): Conv2d(256, 512, kernel_size=(3, 3), stride=(2, 2), padding=(1, 1), bias=False)\n",
       "        (1): BatchNorm2d(512, eps=1e-05, momentum=0.1, affine=True, track_running_stats=True)\n",
       "        (2): ReLU(inplace=True)\n",
       "        (3): Conv2d(512, 512, kernel_size=(3, 3), stride=(1, 1), padding=(1, 1), bias=False)\n",
       "        (4): BatchNorm2d(512, eps=1e-05, momentum=0.1, affine=True, track_running_stats=True)\n",
       "      )\n",
       "      (shortcut): Sequential(\n",
       "        (0): Conv2d(256, 512, kernel_size=(1, 1), stride=(2, 2), bias=False)\n",
       "        (1): BatchNorm2d(512, eps=1e-05, momentum=0.1, affine=True, track_running_stats=True)\n",
       "      )\n",
       "    )\n",
       "    (1): basic_block(\n",
       "      (residual_function): Sequential(\n",
       "        (0): Conv2d(512, 512, kernel_size=(3, 3), stride=(1, 1), padding=(1, 1), bias=False)\n",
       "        (1): BatchNorm2d(512, eps=1e-05, momentum=0.1, affine=True, track_running_stats=True)\n",
       "        (2): ReLU(inplace=True)\n",
       "        (3): Conv2d(512, 512, kernel_size=(3, 3), stride=(1, 1), padding=(1, 1), bias=False)\n",
       "        (4): BatchNorm2d(512, eps=1e-05, momentum=0.1, affine=True, track_running_stats=True)\n",
       "      )\n",
       "      (shortcut): Sequential()\n",
       "    )\n",
       "  )\n",
       "  (avg_pool): AdaptiveAvgPool2d(output_size=(1, 1))\n",
       "  (fc): Linear(in_features=512, out_features=100, bias=True)\n",
       ")"
      ]
     },
     "execution_count": 16,
     "metadata": {},
     "output_type": "execute_result"
    }
   ],
   "source": [
    "# Load the best model\n",
    "\n",
    "model = SimpleCNN()\n",
    "if SAVEATDRIVE:\n",
    "    model.load_state_dict( torch.load('/content/drive/MyDrive/인공지능의이해와활용/best_model_v'+str(VERSION)+'.pt') )\n",
    "else:\n",
    "    model.load_state_dict( torch.load('best_model_v'+str(VERSION)+'.pt') )\n",
    "model.to(device)\n"
   ]
  },
  {
   "cell_type": "code",
   "execution_count": 17,
   "metadata": {
    "id": "gAUIHp7I2GHk"
   },
   "outputs": [],
   "source": [
    "\n",
    "# test phase\n",
    "model.eval()\n",
    "\n",
    "# keep track of predictions\n",
    "y_pred = []\n",
    "\n",
    "# We don't need gradients for test, so wrap in\n",
    "# no_grad to save memory\n",
    "with torch.no_grad():\n",
    "\n",
    "    for batch, targets in test_loader:\n",
    "\n",
    "        # Move the training batch to the GPU\n",
    "        batch = batch.to(device)\n",
    "        targets = targets.to(device)\n",
    "\n",
    "        # forward propagation\n",
    "        predictions = model(batch)\n",
    "\n",
    "        # save predictions\n",
    "        y_pred.extend( predictions.argmax(dim=1).cpu().numpy() )\n",
    "\n"
   ]
  },
  {
   "cell_type": "code",
   "execution_count": 18,
   "metadata": {
    "id": "Oc0IclsHsANN"
   },
   "outputs": [],
   "source": [
    "import csv\n",
    "\n",
    "def make_pred_csv(model):\n",
    "    if SAVEATDRIVE:\n",
    "        with open('/content/drive/MyDrive/인공지능의이해와활용/cifar100_submit_v'+str(VERSION)+'.csv', mode='w') as pred_file:\n",
    "            pred_writer = csv.writer(pred_file, delimiter=',')\n",
    "            pred_writer.writerow(['id', 'Category'])\n",
    "\n",
    "            for i, label in enumerate(y_pred):\n",
    "                pred_writer.writerow([i+1, classes[label]])\n",
    "    else:\n",
    "        with open('cifar100_submit_v'+str(VERSION)+'.csv', mode='w') as pred_file:\n",
    "            pred_writer = csv.writer(pred_file, delimiter=',')\n",
    "            pred_writer.writerow(['id', 'Category'])\n",
    "\n",
    "            for i, label in enumerate(y_pred):\n",
    "                pred_writer.writerow([i+1, classes[label]])\n",
    "\n",
    "\n",
    "make_pred_csv(model)"
   ]
  }
 ],
 "metadata": {
  "accelerator": "GPU",
  "colab": {
   "gpuType": "T4",
   "provenance": []
  },
  "kernelspec": {
   "display_name": "Python 3 (ipykernel)",
   "language": "python",
   "name": "python3"
  },
  "language_info": {
   "codemirror_mode": {
    "name": "ipython",
    "version": 3
   },
   "file_extension": ".py",
   "mimetype": "text/x-python",
   "name": "python",
   "nbconvert_exporter": "python",
   "pygments_lexer": "ipython3",
   "version": "3.11.9"
  }
 },
 "nbformat": 4,
 "nbformat_minor": 4
}
